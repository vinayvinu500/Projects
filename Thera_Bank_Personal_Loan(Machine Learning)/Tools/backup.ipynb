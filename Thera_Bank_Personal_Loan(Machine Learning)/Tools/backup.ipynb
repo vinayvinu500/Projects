{
 "cells": [
  {
   "cell_type": "code",
   "execution_count": null,
   "id": "843e5765",
   "metadata": {
    "execution": {
     "iopub.execute_input": "2022-08-20T06:07:20.221156Z",
     "iopub.status.busy": "2022-08-20T06:07:20.220476Z",
     "iopub.status.idle": "2022-08-20T06:07:21.420511Z",
     "shell.execute_reply": "2022-08-20T06:07:21.419381Z"
    },
    "papermill": {
     "duration": 1.230541,
     "end_time": "2022-08-20T06:07:21.423518",
     "exception": false,
     "start_time": "2022-08-20T06:07:20.192977",
     "status": "completed"
    },
    "tags": []
   },
   "outputs": [],
   "source": [
    "#Importing Libraries\n",
    "import numpy as np \n",
    "import pandas as pd \n",
    "import matplotlib.pyplot as plt\n",
    "import seaborn as sns \n",
    "\n",
    "%matplotlib inline"
   ]
  },
  {
   "cell_type": "code",
   "execution_count": null,
   "id": "b97a72e1",
   "metadata": {
    "execution": {
     "iopub.execute_input": "2022-08-20T06:07:21.477621Z",
     "iopub.status.busy": "2022-08-20T06:07:21.476385Z",
     "iopub.status.idle": "2022-08-20T06:07:21.539927Z",
     "shell.execute_reply": "2022-08-20T06:07:21.538857Z"
    },
    "papermill": {
     "duration": 0.093069,
     "end_time": "2022-08-20T06:07:21.542569",
     "exception": false,
     "start_time": "2022-08-20T06:07:21.449500",
     "status": "completed"
    },
    "tags": []
   },
   "outputs": [],
   "source": [
    "#Loading Dataset\n",
    "data = pd.read_csv('../Bank_Personal_Loan.csv')\n",
    "data"
   ]
  },
  {
   "cell_type": "markdown",
   "id": "83feae32",
   "metadata": {
    "papermill": {
     "duration": 0.02642,
     "end_time": "2022-08-20T06:07:21.595790",
     "exception": false,
     "start_time": "2022-08-20T06:07:21.569370",
     "status": "completed"
    },
    "tags": []
   },
   "source": [
    "### **About the data:**\n",
    "The data set includes 5000 observations with 14 variables divided into 4 different measurement categories.\n",
    "\n",
    "-The **binary** category has five variables, including the target variable personal loan, also securities account, CD account, online banking and credit card.\n",
    "\n",
    "-The **interval** category contains five variables: age, experience, income, CC avg and mortgage.\n",
    "\n",
    "-The **ordinal** category includes the variables family and education.\n",
    "\n",
    "-The last category is **nominal** with ID and Zip code."
   ]
  },
  {
   "cell_type": "markdown",
   "id": "398ad619",
   "metadata": {
    "papermill": {
     "duration": 0.025589,
     "end_time": "2022-08-20T06:07:21.647851",
     "exception": false,
     "start_time": "2022-08-20T06:07:21.622262",
     "status": "completed"
    },
    "tags": []
   },
   "source": [
    "### **Some information about the Dataset**"
   ]
  },
  {
   "cell_type": "code",
   "execution_count": null,
   "id": "a2d3365b",
   "metadata": {
    "execution": {
     "iopub.execute_input": "2022-08-20T06:07:21.702918Z",
     "iopub.status.busy": "2022-08-20T06:07:21.701877Z",
     "iopub.status.idle": "2022-08-20T06:07:21.709632Z",
     "shell.execute_reply": "2022-08-20T06:07:21.707428Z"
    },
    "papermill": {
     "duration": 0.039378,
     "end_time": "2022-08-20T06:07:21.713593",
     "exception": false,
     "start_time": "2022-08-20T06:07:21.674215",
     "status": "completed"
    },
    "tags": []
   },
   "outputs": [],
   "source": [
    "print(\"Shape of Data:\",data.shape)\n",
    "r, c = data.shape\n",
    "print(\"Number of Rows:\",r)\n",
    "print(\"Number of Columns:\",c)"
   ]
  },
  {
   "cell_type": "markdown",
   "id": "cb6ba11a",
   "metadata": {
    "papermill": {
     "duration": 0.025509,
     "end_time": "2022-08-20T06:07:21.766529",
     "exception": false,
     "start_time": "2022-08-20T06:07:21.741020",
     "status": "completed"
    },
    "tags": []
   },
   "source": [
    "Number of Rows in Dataset are **5000** & Number of Columns in Dataset are **14**"
   ]
  },
  {
   "cell_type": "code",
   "execution_count": null,
   "id": "57f2356c",
   "metadata": {
    "execution": {
     "iopub.execute_input": "2022-08-20T06:07:21.820077Z",
     "iopub.status.busy": "2022-08-20T06:07:21.819316Z",
     "iopub.status.idle": "2022-08-20T06:07:21.826587Z",
     "shell.execute_reply": "2022-08-20T06:07:21.824035Z"
    },
    "papermill": {
     "duration": 0.037818,
     "end_time": "2022-08-20T06:07:21.830024",
     "exception": false,
     "start_time": "2022-08-20T06:07:21.792206",
     "status": "completed"
    },
    "tags": []
   },
   "outputs": [],
   "source": [
    "print(\"Names of Column:\")\n",
    "print(data.columns)"
   ]
  },
  {
   "cell_type": "code",
   "execution_count": null,
   "id": "66086e22",
   "metadata": {
    "execution": {
     "iopub.execute_input": "2022-08-20T06:07:21.884355Z",
     "iopub.status.busy": "2022-08-20T06:07:21.883571Z",
     "iopub.status.idle": "2022-08-20T06:07:21.893102Z",
     "shell.execute_reply": "2022-08-20T06:07:21.890978Z"
    },
    "papermill": {
     "duration": 0.040787,
     "end_time": "2022-08-20T06:07:21.897124",
     "exception": false,
     "start_time": "2022-08-20T06:07:21.856337",
     "status": "completed"
    },
    "tags": []
   },
   "outputs": [],
   "source": [
    "print(\"Number of Null Values:\",data.isnull().sum())"
   ]
  },
  {
   "cell_type": "code",
   "execution_count": null,
   "id": "53e42622",
   "metadata": {
    "execution": {
     "iopub.execute_input": "2022-08-20T06:07:21.952085Z",
     "iopub.status.busy": "2022-08-20T06:07:21.951019Z",
     "iopub.status.idle": "2022-08-20T06:07:21.975572Z",
     "shell.execute_reply": "2022-08-20T06:07:21.973677Z"
    },
    "papermill": {
     "duration": 0.055523,
     "end_time": "2022-08-20T06:07:21.979141",
     "exception": false,
     "start_time": "2022-08-20T06:07:21.923618",
     "status": "completed"
    },
    "tags": []
   },
   "outputs": [],
   "source": [
    "print(\"Number of Duplicate Values: \",data.duplicated().sum())"
   ]
  },
  {
   "cell_type": "code",
   "execution_count": null,
   "id": "b7b8c15e",
   "metadata": {
    "execution": {
     "iopub.execute_input": "2022-08-20T06:07:22.059339Z",
     "iopub.status.busy": "2022-08-20T06:07:22.058645Z",
     "iopub.status.idle": "2022-08-20T06:07:22.086117Z",
     "shell.execute_reply": "2022-08-20T06:07:22.083111Z"
    },
    "papermill": {
     "duration": 0.073812,
     "end_time": "2022-08-20T06:07:22.091149",
     "exception": false,
     "start_time": "2022-08-20T06:07:22.017337",
     "status": "completed"
    },
    "tags": []
   },
   "outputs": [],
   "source": [
    "print(\"Information about the Dataset\")\n",
    "data.info()"
   ]
  },
  {
   "cell_type": "markdown",
   "id": "affe3f45",
   "metadata": {
    "papermill": {
     "duration": 0.027182,
     "end_time": "2022-08-20T06:07:22.151133",
     "exception": false,
     "start_time": "2022-08-20T06:07:22.123951",
     "status": "completed"
    },
    "tags": []
   },
   "source": [
    "So here we can see that, dataset donot have any **Duplicate Values** which is good thing. If we get duplicate values we have to remove those. After this we check for the **null values**. Our data not have any null value so we are ready to go further."
   ]
  },
  {
   "cell_type": "code",
   "execution_count": null,
   "id": "fefbc460",
   "metadata": {
    "execution": {
     "iopub.execute_input": "2022-08-20T06:07:22.206867Z",
     "iopub.status.busy": "2022-08-20T06:07:22.206208Z",
     "iopub.status.idle": "2022-08-20T06:07:22.427822Z",
     "shell.execute_reply": "2022-08-20T06:07:22.426519Z"
    },
    "papermill": {
     "duration": 0.252633,
     "end_time": "2022-08-20T06:07:22.430621",
     "exception": false,
     "start_time": "2022-08-20T06:07:22.177988",
     "status": "completed"
    },
    "tags": []
   },
   "outputs": [],
   "source": [
    "plt.figure()\n",
    "sns.countplot(x = 'Personal Loan',data = data )\n",
    "plt.show()"
   ]
  },
  {
   "cell_type": "markdown",
   "id": "3686a2d9",
   "metadata": {
    "papermill": {
     "duration": 0.026256,
     "end_time": "2022-08-20T06:07:22.483542",
     "exception": false,
     "start_time": "2022-08-20T06:07:22.457286",
     "status": "completed"
    },
    "tags": []
   },
   "source": [
    "### **Drop coulmns operation**\n",
    "-**ID** coulumn in our database have a unique number for every client.\n",
    "\n",
    "-**ZIP Code** coulumn in our database have a ZIP Code for the city of the clients\n",
    "\n",
    "So there is no relation between ID columns or ZIP Code coulumn and any ather variable. It will be useful for use when drop them to prevent occurrence of misleading."
   ]
  },
  {
   "cell_type": "code",
   "execution_count": null,
   "id": "65f0bf21",
   "metadata": {
    "execution": {
     "iopub.execute_input": "2022-08-20T06:07:22.538945Z",
     "iopub.status.busy": "2022-08-20T06:07:22.538529Z",
     "iopub.status.idle": "2022-08-20T06:07:22.555192Z",
     "shell.execute_reply": "2022-08-20T06:07:22.554245Z"
    },
    "papermill": {
     "duration": 0.047136,
     "end_time": "2022-08-20T06:07:22.557447",
     "exception": false,
     "start_time": "2022-08-20T06:07:22.510311",
     "status": "completed"
    },
    "tags": []
   },
   "outputs": [],
   "source": [
    "data.drop(['ID', 'ZIP Code'], axis = 1, inplace=True)\n",
    "data.head()"
   ]
  },
  {
   "cell_type": "code",
   "execution_count": null,
   "id": "b0728f3d",
   "metadata": {
    "execution": {
     "iopub.execute_input": "2022-08-20T06:07:22.613744Z",
     "iopub.status.busy": "2022-08-20T06:07:22.613117Z",
     "iopub.status.idle": "2022-08-20T06:07:22.668513Z",
     "shell.execute_reply": "2022-08-20T06:07:22.667293Z"
    },
    "papermill": {
     "duration": 0.086958,
     "end_time": "2022-08-20T06:07:22.671580",
     "exception": false,
     "start_time": "2022-08-20T06:07:22.584622",
     "status": "completed"
    },
    "tags": []
   },
   "outputs": [],
   "source": [
    "data.describe()"
   ]
  },
  {
   "cell_type": "markdown",
   "id": "74c46a03",
   "metadata": {
    "papermill": {
     "duration": 0.027311,
     "end_time": "2022-08-20T06:07:22.726360",
     "exception": false,
     "start_time": "2022-08-20T06:07:22.699049",
     "status": "completed"
    },
    "tags": []
   },
   "source": [
    "**Observations:**\n",
    "\n",
    "We can see in the describe cell above the **min** value of **Experience** columns is (-3) but we knowe the Experience values must be possitive we will change any negative Experience value by the mean"
   ]
  },
  {
   "cell_type": "code",
   "execution_count": null,
   "id": "f1249025",
   "metadata": {
    "execution": {
     "iopub.execute_input": "2022-08-20T06:07:22.784329Z",
     "iopub.status.busy": "2022-08-20T06:07:22.783924Z",
     "iopub.status.idle": "2022-08-20T06:07:22.845774Z",
     "shell.execute_reply": "2022-08-20T06:07:22.844063Z"
    },
    "papermill": {
     "duration": 0.094383,
     "end_time": "2022-08-20T06:07:22.849231",
     "exception": false,
     "start_time": "2022-08-20T06:07:22.754848",
     "status": "completed"
    },
    "tags": []
   },
   "outputs": [],
   "source": [
    "data['Experience'][data['Experience'] < 0] = data['Experience'].mean()\n",
    "data.describe()"
   ]
  },
  {
   "cell_type": "markdown",
   "id": "2024a2ab",
   "metadata": {
    "papermill": {
     "duration": 0.027208,
     "end_time": "2022-08-20T06:07:22.904357",
     "exception": false,
     "start_time": "2022-08-20T06:07:22.877149",
     "status": "completed"
    },
    "tags": []
   },
   "source": [
    "**Observations:**\n",
    "We will convert the CCAvg from monthely average to annual average like income coulmn."
   ]
  },
  {
   "cell_type": "code",
   "execution_count": null,
   "id": "cdeb632a",
   "metadata": {
    "execution": {
     "iopub.execute_input": "2022-08-20T06:07:22.962941Z",
     "iopub.status.busy": "2022-08-20T06:07:22.961607Z",
     "iopub.status.idle": "2022-08-20T06:07:22.986678Z",
     "shell.execute_reply": "2022-08-20T06:07:22.985717Z"
    },
    "papermill": {
     "duration": 0.056733,
     "end_time": "2022-08-20T06:07:22.989095",
     "exception": false,
     "start_time": "2022-08-20T06:07:22.932362",
     "status": "completed"
    },
    "tags": []
   },
   "outputs": [],
   "source": [
    "data['ann_CV'] = data['CCAvg'] * 12\n",
    "data"
   ]
  },
  {
   "cell_type": "code",
   "execution_count": null,
   "id": "2afd66a1",
   "metadata": {
    "execution": {
     "iopub.execute_input": "2022-08-20T06:07:23.047501Z",
     "iopub.status.busy": "2022-08-20T06:07:23.046264Z",
     "iopub.status.idle": "2022-08-20T06:07:23.069990Z",
     "shell.execute_reply": "2022-08-20T06:07:23.068886Z"
    },
    "papermill": {
     "duration": 0.055702,
     "end_time": "2022-08-20T06:07:23.072640",
     "exception": false,
     "start_time": "2022-08-20T06:07:23.016938",
     "status": "completed"
    },
    "tags": []
   },
   "outputs": [],
   "source": [
    "data.drop('CCAvg', axis = 1, inplace = True)\n",
    "data"
   ]
  },
  {
   "cell_type": "code",
   "execution_count": null,
   "id": "9d7500cb",
   "metadata": {
    "execution": {
     "iopub.execute_input": "2022-08-20T06:07:23.132616Z",
     "iopub.status.busy": "2022-08-20T06:07:23.132191Z",
     "iopub.status.idle": "2022-08-20T06:07:24.275517Z",
     "shell.execute_reply": "2022-08-20T06:07:24.274001Z"
    },
    "papermill": {
     "duration": 1.177267,
     "end_time": "2022-08-20T06:07:24.278729",
     "exception": false,
     "start_time": "2022-08-20T06:07:23.101462",
     "status": "completed"
    },
    "tags": []
   },
   "outputs": [],
   "source": [
    "fig, ax = plt.subplots(figsize = (10, 10))\n",
    "sns.heatmap(data.corr(),cmap='BuPu',cbar=True,annot=True,linewidths=0.5,ax=ax)\n",
    "plt.show"
   ]
  },
  {
   "cell_type": "markdown",
   "id": "1a1499ac",
   "metadata": {
    "papermill": {
     "duration": 0.030218,
     "end_time": "2022-08-20T06:07:24.339753",
     "exception": false,
     "start_time": "2022-08-20T06:07:24.309535",
     "status": "completed"
    },
    "tags": []
   },
   "source": [
    "## **Observation**\n",
    "- 'Age' and 'Experience' are correlated with each other.\n",
    "\n",
    "- 'Income' and ‘ann_CCAvg' correlated with each other.\n",
    "\n",
    "- 'CD Account' has a correlation with 'Credit Card', 'Securities Account', 'Online', ‘ann_CCAvg' and 'Income'.\n",
    "\n",
    "- 'Personal Loan' has correlation with 'Income’, ann_'CCAvg', 'CD Account', 'Mortgage', and 'Education'.\n",
    "\n",
    "- 'Mortgage' has moderate correlation with 'Income'\n",
    "\n",
    "- 'Income' influences ‘ann_CCAvg', 'Personal Loan', 'CD Account' and 'Mortgage'. "
   ]
  },
  {
   "cell_type": "code",
   "execution_count": null,
   "id": "55a6b01f",
   "metadata": {
    "execution": {
     "iopub.execute_input": "2022-08-20T06:07:24.402364Z",
     "iopub.status.busy": "2022-08-20T06:07:24.401621Z",
     "iopub.status.idle": "2022-08-20T06:07:24.965378Z",
     "shell.execute_reply": "2022-08-20T06:07:24.963901Z"
    },
    "papermill": {
     "duration": 0.599711,
     "end_time": "2022-08-20T06:07:24.969505",
     "exception": false,
     "start_time": "2022-08-20T06:07:24.369794",
     "status": "completed"
    },
    "tags": []
   },
   "outputs": [],
   "source": [
    "sns.scatterplot(x = 'Age', y = 'Income', data = data, hue = 'Personal Loan')"
   ]
  },
  {
   "cell_type": "markdown",
   "id": "5e3aa170",
   "metadata": {
    "papermill": {
     "duration": 0.032158,
     "end_time": "2022-08-20T06:07:25.035590",
     "exception": false,
     "start_time": "2022-08-20T06:07:25.003432",
     "status": "completed"
    },
    "tags": []
   },
   "source": [
    "**Clients with income more than 100k are more likely to get loan**"
   ]
  },
  {
   "cell_type": "code",
   "execution_count": null,
   "id": "cf25da1b",
   "metadata": {
    "execution": {
     "iopub.execute_input": "2022-08-20T06:07:25.103593Z",
     "iopub.status.busy": "2022-08-20T06:07:25.102779Z",
     "iopub.status.idle": "2022-08-20T06:07:25.661491Z",
     "shell.execute_reply": "2022-08-20T06:07:25.660018Z"
    },
    "papermill": {
     "duration": 0.596948,
     "end_time": "2022-08-20T06:07:25.665240",
     "exception": false,
     "start_time": "2022-08-20T06:07:25.068292",
     "status": "completed"
    },
    "tags": []
   },
   "outputs": [],
   "source": [
    "sns.scatterplot(x = 'Age', y = 'ann_CV', data = data, hue = 'Personal Loan')"
   ]
  },
  {
   "cell_type": "markdown",
   "id": "ff93f10a",
   "metadata": {
    "papermill": {
     "duration": 0.040652,
     "end_time": "2022-08-20T06:07:25.740721",
     "exception": false,
     "start_time": "2022-08-20T06:07:25.700069",
     "status": "completed"
    },
    "tags": []
   },
   "source": [
    "**Clients with annual CV average more than 30 are more likely to get loan**"
   ]
  },
  {
   "cell_type": "code",
   "execution_count": null,
   "id": "3b9f701f",
   "metadata": {
    "execution": {
     "iopub.execute_input": "2022-08-20T06:07:25.816744Z",
     "iopub.status.busy": "2022-08-20T06:07:25.816321Z",
     "iopub.status.idle": "2022-08-20T06:07:26.654482Z",
     "shell.execute_reply": "2022-08-20T06:07:26.653337Z"
    },
    "papermill": {
     "duration": 0.87811,
     "end_time": "2022-08-20T06:07:26.657217",
     "exception": false,
     "start_time": "2022-08-20T06:07:25.779107",
     "status": "completed"
    },
    "tags": []
   },
   "outputs": [],
   "source": [
    "sns.countplot(x='Experience', hue = 'Personal Loan', data = data)"
   ]
  },
  {
   "cell_type": "code",
   "execution_count": null,
   "id": "2280c939",
   "metadata": {
    "execution": {
     "iopub.execute_input": "2022-08-20T06:07:26.731228Z",
     "iopub.status.busy": "2022-08-20T06:07:26.730802Z",
     "iopub.status.idle": "2022-08-20T06:07:26.991620Z",
     "shell.execute_reply": "2022-08-20T06:07:26.990677Z"
    },
    "papermill": {
     "duration": 0.30078,
     "end_time": "2022-08-20T06:07:26.994109",
     "exception": false,
     "start_time": "2022-08-20T06:07:26.693329",
     "status": "completed"
    },
    "tags": []
   },
   "outputs": [],
   "source": [
    "sns.countplot(x='Family', hue = 'Personal Loan', data = data)"
   ]
  },
  {
   "cell_type": "markdown",
   "id": "6a427ffd",
   "metadata": {
    "papermill": {
     "duration": 0.03502,
     "end_time": "2022-08-20T06:07:27.065249",
     "exception": false,
     "start_time": "2022-08-20T06:07:27.030229",
     "status": "completed"
    },
    "tags": []
   },
   "source": [
    "**We can see in previous two graph the Family and Experience has a low effect in the personal loan attribute**"
   ]
  },
  {
   "cell_type": "code",
   "execution_count": null,
   "id": "9c79ed6b",
   "metadata": {
    "execution": {
     "iopub.execute_input": "2022-08-20T06:07:27.138992Z",
     "iopub.status.busy": "2022-08-20T06:07:27.138336Z",
     "iopub.status.idle": "2022-08-20T06:07:27.371203Z",
     "shell.execute_reply": "2022-08-20T06:07:27.369679Z"
    },
    "papermill": {
     "duration": 0.273084,
     "end_time": "2022-08-20T06:07:27.374188",
     "exception": false,
     "start_time": "2022-08-20T06:07:27.101104",
     "status": "completed"
    },
    "tags": []
   },
   "outputs": [],
   "source": [
    "sns.countplot(x='CreditCard', hue = 'Personal Loan', data = data)"
   ]
  },
  {
   "cell_type": "code",
   "execution_count": null,
   "id": "0375e90c",
   "metadata": {
    "execution": {
     "iopub.execute_input": "2022-08-20T06:07:27.450333Z",
     "iopub.status.busy": "2022-08-20T06:07:27.449267Z",
     "iopub.status.idle": "2022-08-20T06:07:27.691866Z",
     "shell.execute_reply": "2022-08-20T06:07:27.690371Z"
    },
    "papermill": {
     "duration": 0.283394,
     "end_time": "2022-08-20T06:07:27.694461",
     "exception": false,
     "start_time": "2022-08-20T06:07:27.411067",
     "status": "completed"
    },
    "tags": []
   },
   "outputs": [],
   "source": [
    "sns.countplot(x='Securities Account', hue = 'Personal Loan', data = data)"
   ]
  },
  {
   "cell_type": "code",
   "execution_count": null,
   "id": "94c2d0ed",
   "metadata": {
    "execution": {
     "iopub.execute_input": "2022-08-20T06:07:27.770627Z",
     "iopub.status.busy": "2022-08-20T06:07:27.770168Z",
     "iopub.status.idle": "2022-08-20T06:07:27.995991Z",
     "shell.execute_reply": "2022-08-20T06:07:27.994349Z"
    },
    "papermill": {
     "duration": 0.266818,
     "end_time": "2022-08-20T06:07:27.998542",
     "exception": false,
     "start_time": "2022-08-20T06:07:27.731724",
     "status": "completed"
    },
    "tags": []
   },
   "outputs": [],
   "source": [
    "sns.countplot(x='CD Account', hue = 'Personal Loan', data = data)"
   ]
  },
  {
   "cell_type": "code",
   "execution_count": null,
   "id": "46a9d58d",
   "metadata": {
    "execution": {
     "iopub.execute_input": "2022-08-20T06:07:28.074714Z",
     "iopub.status.busy": "2022-08-20T06:07:28.073381Z",
     "iopub.status.idle": "2022-08-20T06:07:28.670119Z",
     "shell.execute_reply": "2022-08-20T06:07:28.668685Z"
    },
    "papermill": {
     "duration": 0.637792,
     "end_time": "2022-08-20T06:07:28.672923",
     "exception": false,
     "start_time": "2022-08-20T06:07:28.035131",
     "status": "completed"
    },
    "tags": []
   },
   "outputs": [],
   "source": [
    "sns.catplot(x='Securities Account', y = 'CD Account', data = data, kind = 'bar', hue = 'Personal Loan' )"
   ]
  },
  {
   "cell_type": "code",
   "execution_count": null,
   "id": "4c39bc3f",
   "metadata": {
    "execution": {
     "iopub.execute_input": "2022-08-20T06:07:28.757135Z",
     "iopub.status.busy": "2022-08-20T06:07:28.756220Z",
     "iopub.status.idle": "2022-08-20T06:07:29.373099Z",
     "shell.execute_reply": "2022-08-20T06:07:29.372055Z"
    },
    "papermill": {
     "duration": 0.659469,
     "end_time": "2022-08-20T06:07:29.375943",
     "exception": false,
     "start_time": "2022-08-20T06:07:28.716474",
     "status": "completed"
    },
    "tags": []
   },
   "outputs": [],
   "source": [
    "sns.catplot(x='CreditCard', y = 'CD Account', data = data, kind = 'bar', hue = 'Personal Loan' )"
   ]
  },
  {
   "cell_type": "markdown",
   "id": "0154be81",
   "metadata": {
    "papermill": {
     "duration": 0.037459,
     "end_time": "2022-08-20T06:07:29.451014",
     "exception": false,
     "start_time": "2022-08-20T06:07:29.413555",
     "status": "completed"
    },
    "tags": []
   },
   "source": [
    "****After investigating previous plots.We will work on the all data after drop the 'ID' and 'ZIP Code' coulmns because we find all coulmns are affect on each other****"
   ]
  },
  {
   "cell_type": "markdown",
   "id": "ff598a2f",
   "metadata": {
    "papermill": {
     "duration": 0.037342,
     "end_time": "2022-08-20T06:07:29.525714",
     "exception": false,
     "start_time": "2022-08-20T06:07:29.488372",
     "status": "completed"
    },
    "tags": []
   },
   "source": [
    "### **Spliting the data**\n",
    "Training Set and Testing Set in the ratio of 70:30"
   ]
  },
  {
   "cell_type": "code",
   "execution_count": null,
   "id": "91bedfc8",
   "metadata": {
    "execution": {
     "iopub.execute_input": "2022-08-20T06:07:29.603625Z",
     "iopub.status.busy": "2022-08-20T06:07:29.602728Z",
     "iopub.status.idle": "2022-08-20T06:07:29.966551Z",
     "shell.execute_reply": "2022-08-20T06:07:29.965442Z"
    },
    "papermill": {
     "duration": 0.408892,
     "end_time": "2022-08-20T06:07:29.972069",
     "exception": false,
     "start_time": "2022-08-20T06:07:29.563177",
     "status": "completed"
    },
    "tags": []
   },
   "outputs": [],
   "source": [
    "# import module\n",
    "from sklearn.model_selection import train_test_split\n",
    "\n",
    "X = data.drop('Personal Loan', axis = 1).values\n",
    "y = data['Personal Loan'].values.reshape((-1, 1))\n",
    "X_train, X_test, y_train, y_test = train_test_split(\n",
    "    data.drop(labels=['Personal Loan'], axis=1),\n",
    "    data['Personal Loan'],\n",
    "    test_size=0.4,\n",
    "    random_state=0) # train, test split by 60:40 respectively\n",
    "\n",
    "# X_train.shape, X_test.shape\n",
    "print(\"Training Dataset Shape:\",X_train.shape)\n",
    "r, c = X_train.shape\n",
    "print(\"Rows= \",r )\n",
    "print(\"Columns= \",c)\n",
    "print(\"Testing Dataset Shape:\",X_test.shape)\n",
    "r, c = X_test.shape\n",
    "print(\"Rows= \",r )\n",
    "print(\"Columns= \",c)"
   ]
  },
  {
   "cell_type": "markdown",
   "id": "968a01dd",
   "metadata": {
    "papermill": {
     "duration": 0.037981,
     "end_time": "2022-08-20T06:07:30.049732",
     "exception": false,
     "start_time": "2022-08-20T06:07:30.011751",
     "status": "completed"
    },
    "tags": []
   },
   "source": [
    "### **Determine Mutual Information**\n",
    "Calculate the mutual information between the variables and the target the smaller the value of the mi, the less information we can infer from the feature about the target."
   ]
  },
  {
   "cell_type": "code",
   "execution_count": null,
   "id": "f41e7ec0",
   "metadata": {
    "execution": {
     "iopub.execute_input": "2022-08-20T06:07:30.128323Z",
     "iopub.status.busy": "2022-08-20T06:07:30.127118Z",
     "iopub.status.idle": "2022-08-20T06:07:30.448882Z",
     "shell.execute_reply": "2022-08-20T06:07:30.447851Z"
    },
    "papermill": {
     "duration": 0.363803,
     "end_time": "2022-08-20T06:07:30.451454",
     "exception": false,
     "start_time": "2022-08-20T06:07:30.087651",
     "status": "completed"
    },
    "tags": []
   },
   "outputs": [],
   "source": [
    "# to obtain the mutual information values\n",
    "from sklearn.feature_selection import mutual_info_classif\n",
    "\n",
    "mi = mutual_info_classif(X_train, y_train)\n",
    "mi"
   ]
  },
  {
   "cell_type": "markdown",
   "id": "13a8609c",
   "metadata": {
    "papermill": {
     "duration": 0.039053,
     "end_time": "2022-08-20T06:07:30.529396",
     "exception": false,
     "start_time": "2022-08-20T06:07:30.490343",
     "status": "completed"
    },
    "tags": []
   },
   "source": [
    "Let's capture the above array in a pandas series add the variable names in the index sort the features based on their mutual information value and make a var plot"
   ]
  },
  {
   "cell_type": "code",
   "execution_count": null,
   "id": "94f53ef2",
   "metadata": {
    "execution": {
     "iopub.execute_input": "2022-08-20T06:07:30.608643Z",
     "iopub.status.busy": "2022-08-20T06:07:30.607894Z",
     "iopub.status.idle": "2022-08-20T06:07:30.934597Z",
     "shell.execute_reply": "2022-08-20T06:07:30.933371Z"
    },
    "papermill": {
     "duration": 0.369853,
     "end_time": "2022-08-20T06:07:30.937298",
     "exception": false,
     "start_time": "2022-08-20T06:07:30.567445",
     "status": "completed"
    },
    "tags": []
   },
   "outputs": [],
   "source": [
    "# to select the features\n",
    "from sklearn.feature_selection import SelectKBest\n",
    "\n",
    "mi = pd.Series(mi)\n",
    "mi.index = X_train.columns\n",
    "mi.sort_values(ascending=False).plot.bar(figsize=(20, 6))\n",
    "plt.ylabel('Mutual Information')"
   ]
  },
  {
   "cell_type": "markdown",
   "id": "47f890a3",
   "metadata": {
    "papermill": {
     "duration": 0.038854,
     "end_time": "2022-08-20T06:07:31.016111",
     "exception": false,
     "start_time": "2022-08-20T06:07:30.977257",
     "status": "completed"
    },
    "tags": []
   },
   "source": [
    "There are a few features (left of the plot) with higher mutual information values. There are also features with almost zero mutual information(mi) values on the right of the plot.\n",
    "\n",
    "Once we find the mutual information values, to select features we need to determine a threshold, or cut-off value, above which a feature will be selected.\n",
    "\n",
    "There are a few ways in which this can be done:\n",
    "\n",
    "Select top k features, where k is an arbitrary number of features\n",
    "\n",
    "### **Select top k features based on Mutual Information**\n",
    "Here we will select the top **5 features** based on their mutual information value"
   ]
  },
  {
   "cell_type": "code",
   "execution_count": null,
   "id": "d3505eb7",
   "metadata": {
    "execution": {
     "iopub.execute_input": "2022-08-20T06:07:31.095211Z",
     "iopub.status.busy": "2022-08-20T06:07:31.094787Z",
     "iopub.status.idle": "2022-08-20T06:07:31.272301Z",
     "shell.execute_reply": "2022-08-20T06:07:31.271102Z"
    },
    "papermill": {
     "duration": 0.220548,
     "end_time": "2022-08-20T06:07:31.275070",
     "exception": false,
     "start_time": "2022-08-20T06:07:31.054522",
     "status": "completed"
    },
    "tags": []
   },
   "outputs": [],
   "source": [
    "# select features\n",
    "sel_ = SelectKBest(mutual_info_classif, k=5).fit(X_train, y_train)\n",
    "\n",
    "# display features\n",
    "X_train.columns[sel_.get_support()]"
   ]
  },
  {
   "cell_type": "code",
   "execution_count": null,
   "id": "35db63ff",
   "metadata": {
    "execution": {
     "iopub.execute_input": "2022-08-20T06:07:31.355783Z",
     "iopub.status.busy": "2022-08-20T06:07:31.353456Z",
     "iopub.status.idle": "2022-08-20T06:07:31.363602Z",
     "shell.execute_reply": "2022-08-20T06:07:31.361853Z"
    },
    "papermill": {
     "duration": 0.053334,
     "end_time": "2022-08-20T06:07:31.366907",
     "exception": false,
     "start_time": "2022-08-20T06:07:31.313573",
     "status": "completed"
    },
    "tags": []
   },
   "outputs": [],
   "source": [
    "# X_train.shape,X_test.shape\n",
    "r, c = X_train.shape\n",
    "print(\"Train Dataset:\")\n",
    "print(\"Rows=\",r)\n",
    "print(\"Column=\",c)\n",
    "r, c = X_test.shape\n",
    "print(\"Test Dataset:\")\n",
    "print(\"Rows=\",r)\n",
    "print(\"Column=\",c)"
   ]
  },
  {
   "cell_type": "markdown",
   "id": "c4c27d10",
   "metadata": {
    "papermill": {
     "duration": 0.038278,
     "end_time": "2022-08-20T06:07:31.444048",
     "exception": false,
     "start_time": "2022-08-20T06:07:31.405770",
     "status": "completed"
    },
    "tags": []
   },
   "source": [
    "Now our Training Dataset is of the size (3500,5) i.e. Rows = 3500, Columns = 5. And Testing Dataset is of the size (1500,5) i.e. Rows = 1500, Columns = 5.\n",
    "\n",
    "### **SMOTE**\n",
    "Here we can see the data is **Unbalance**. The lable which contain '0' is greater than the label containg '1'.\n",
    "\n",
    "So here we need to **Balance** the dataset in this way that our model get train in similar ways on both the labels."
   ]
  },
  {
   "cell_type": "code",
   "execution_count": null,
   "id": "3f8c148e",
   "metadata": {
    "execution": {
     "iopub.execute_input": "2022-08-20T06:07:31.524369Z",
     "iopub.status.busy": "2022-08-20T06:07:31.523468Z",
     "iopub.status.idle": "2022-08-20T06:07:31.533384Z",
     "shell.execute_reply": "2022-08-20T06:07:31.531220Z"
    },
    "papermill": {
     "duration": 0.053414,
     "end_time": "2022-08-20T06:07:31.536256",
     "exception": false,
     "start_time": "2022-08-20T06:07:31.482842",
     "status": "completed"
    },
    "tags": []
   },
   "outputs": [],
   "source": [
    "print(\"Before OverSampling, counts of label '1': {}\".format(sum(y_train == 1)))\n",
    "print(\"Before OverSampling, counts of label '0': {} \\n\".format(sum(y_train == 0)))"
   ]
  },
  {
   "cell_type": "code",
   "execution_count": null,
   "id": "3acb9f79",
   "metadata": {
    "execution": {
     "iopub.execute_input": "2022-08-20T06:07:31.617050Z",
     "iopub.status.busy": "2022-08-20T06:07:31.616321Z",
     "iopub.status.idle": "2022-08-20T06:07:31.855844Z",
     "shell.execute_reply": "2022-08-20T06:07:31.854555Z"
    },
    "papermill": {
     "duration": 0.284208,
     "end_time": "2022-08-20T06:07:31.859140",
     "exception": false,
     "start_time": "2022-08-20T06:07:31.574932",
     "status": "completed"
    },
    "tags": []
   },
   "outputs": [],
   "source": [
    "# !pip install imbalanced-learn\n",
    "from imblearn.over_sampling import SMOTE  \n",
    "\n",
    "sm = SMOTE(random_state = 2)\n",
    "X_train_res, y_train_res = sm.fit_resample(X_train, y_train)"
   ]
  },
  {
   "cell_type": "code",
   "execution_count": null,
   "id": "e63dd752",
   "metadata": {
    "execution": {
     "iopub.execute_input": "2022-08-20T06:07:31.939153Z",
     "iopub.status.busy": "2022-08-20T06:07:31.938380Z",
     "iopub.status.idle": "2022-08-20T06:07:31.948832Z",
     "shell.execute_reply": "2022-08-20T06:07:31.946265Z"
    },
    "papermill": {
     "duration": 0.055095,
     "end_time": "2022-08-20T06:07:31.953025",
     "exception": false,
     "start_time": "2022-08-20T06:07:31.897930",
     "status": "completed"
    },
    "tags": []
   },
   "outputs": [],
   "source": [
    "print('After OverSampling, the shape of train_X: {}'.format(X_train_res.shape))\n",
    "print('After OverSampling, the shape of train_y: {} \\n'.format(y_train_res.shape))\n",
    "\n",
    "print(\"After OverSampling, counts of label '1': {}\".format(sum(y_train_res == 1)))\n",
    "print(\"After OverSampling, counts of label '0': {}\".format(sum(y_train_res == 0)))"
   ]
  },
  {
   "cell_type": "markdown",
   "id": "488033db",
   "metadata": {
    "papermill": {
     "duration": 0.038717,
     "end_time": "2022-08-20T06:07:32.031279",
     "exception": false,
     "start_time": "2022-08-20T06:07:31.992562",
     "status": "completed"
    },
    "tags": []
   },
   "source": [
    "Now, our dataset is been **Balance**, so we can train our privious model on this dataset."
   ]
  },
  {
   "cell_type": "code",
   "execution_count": null,
   "id": "33e03e21",
   "metadata": {
    "execution": {
     "iopub.execute_input": "2022-08-20T06:07:32.113013Z",
     "iopub.status.busy": "2022-08-20T06:07:32.112538Z",
     "iopub.status.idle": "2022-08-20T06:07:32.119516Z",
     "shell.execute_reply": "2022-08-20T06:07:32.117656Z"
    },
    "papermill": {
     "duration": 0.05134,
     "end_time": "2022-08-20T06:07:32.122525",
     "exception": false,
     "start_time": "2022-08-20T06:07:32.071185",
     "status": "completed"
    },
    "tags": []
   },
   "outputs": [],
   "source": [
    "#checking the length of the Training data before balancing\n",
    "print(len(X_train))"
   ]
  },
  {
   "cell_type": "code",
   "execution_count": null,
   "id": "c9704e28",
   "metadata": {
    "execution": {
     "iopub.execute_input": "2022-08-20T06:07:32.205048Z",
     "iopub.status.busy": "2022-08-20T06:07:32.203715Z",
     "iopub.status.idle": "2022-08-20T06:07:32.211654Z",
     "shell.execute_reply": "2022-08-20T06:07:32.209976Z"
    },
    "papermill": {
     "duration": 0.052456,
     "end_time": "2022-08-20T06:07:32.214695",
     "exception": false,
     "start_time": "2022-08-20T06:07:32.162239",
     "status": "completed"
    },
    "tags": []
   },
   "outputs": [],
   "source": [
    "#checking the length of the Test data after balancing\n",
    "print(len(X_train_res))"
   ]
  },
  {
   "cell_type": "markdown",
   "id": "a41d0e3a",
   "metadata": {
    "papermill": {
     "duration": 0.038762,
     "end_time": "2022-08-20T06:07:32.291981",
     "exception": false,
     "start_time": "2022-08-20T06:07:32.253219",
     "status": "completed"
    },
    "tags": []
   },
   "source": [
    "## **Algorithm**\n",
    "**On our work we will use five kind of algorithms to the find algorithm with highest f1_score**\n",
    "\n",
    "- LogisticRegression\n",
    "- SVM\n",
    "- K-NN\n",
    "- DecisionTreeClassifier\n",
    "- RandomForestClassifier"
   ]
  },
  {
   "cell_type": "markdown",
   "id": "ffc9ffd6",
   "metadata": {
    "papermill": {
     "duration": 0.03937,
     "end_time": "2022-08-20T06:07:32.370312",
     "exception": false,
     "start_time": "2022-08-20T06:07:32.330942",
     "status": "completed"
    },
    "tags": []
   },
   "source": [
    "## **1. Logestic Regression**"
   ]
  },
  {
   "cell_type": "code",
   "execution_count": null,
   "id": "adbbc76d",
   "metadata": {
    "execution": {
     "iopub.execute_input": "2022-08-20T06:07:32.450925Z",
     "iopub.status.busy": "2022-08-20T06:07:32.450469Z",
     "iopub.status.idle": "2022-08-20T06:07:32.636541Z",
     "shell.execute_reply": "2022-08-20T06:07:32.634628Z"
    },
    "papermill": {
     "duration": 0.236179,
     "end_time": "2022-08-20T06:07:32.645684",
     "exception": false,
     "start_time": "2022-08-20T06:07:32.409505",
     "status": "completed"
    },
    "tags": []
   },
   "outputs": [],
   "source": [
    "from sklearn.linear_model import LogisticRegression\n",
    "\n",
    "classifier = LogisticRegression(random_state = 0)\n",
    "classifier.fit(X_train, y_train)"
   ]
  },
  {
   "cell_type": "code",
   "execution_count": null,
   "id": "77fd7c86",
   "metadata": {
    "execution": {
     "iopub.execute_input": "2022-08-20T06:07:32.795016Z",
     "iopub.status.busy": "2022-08-20T06:07:32.794577Z",
     "iopub.status.idle": "2022-08-20T06:07:33.157115Z",
     "shell.execute_reply": "2022-08-20T06:07:33.154640Z"
    },
    "papermill": {
     "duration": 0.409211,
     "end_time": "2022-08-20T06:07:33.162741",
     "exception": false,
     "start_time": "2022-08-20T06:07:32.753530",
     "status": "completed"
    },
    "tags": []
   },
   "outputs": [],
   "source": [
    "# logistic regression object\n",
    "lr = LogisticRegression()\n",
    "\n",
    "# train the model on train set\n",
    "lr.fit(X_train_res, y_train_res)\n",
    "\n",
    "predictions = lr.predict(X_test)\n",
    "\n",
    "#import classification report\n",
    "from sklearn.metrics import confusion_matrix, classification_report\n",
    "\n",
    "# print classification report\n",
    "print(classification_report(y_test, predictions))"
   ]
  },
  {
   "cell_type": "code",
   "execution_count": null,
   "id": "18a5f75a",
   "metadata": {
    "execution": {
     "iopub.execute_input": "2022-08-20T06:07:33.312673Z",
     "iopub.status.busy": "2022-08-20T06:07:33.312255Z",
     "iopub.status.idle": "2022-08-20T06:07:33.323834Z",
     "shell.execute_reply": "2022-08-20T06:07:33.321537Z"
    },
    "papermill": {
     "duration": 0.057838,
     "end_time": "2022-08-20T06:07:33.328929",
     "exception": false,
     "start_time": "2022-08-20T06:07:33.271091",
     "status": "completed"
    },
    "tags": []
   },
   "outputs": [],
   "source": [
    "y_pred = classifier.predict(X_test)\n",
    "print(y_pred)"
   ]
  },
  {
   "cell_type": "code",
   "execution_count": null,
   "id": "fd84effc",
   "metadata": {
    "execution": {
     "iopub.execute_input": "2022-08-20T06:07:33.490349Z",
     "iopub.status.busy": "2022-08-20T06:07:33.489928Z",
     "iopub.status.idle": "2022-08-20T06:07:33.506270Z",
     "shell.execute_reply": "2022-08-20T06:07:33.504479Z"
    },
    "papermill": {
     "duration": 0.061907,
     "end_time": "2022-08-20T06:07:33.511006",
     "exception": false,
     "start_time": "2022-08-20T06:07:33.449099",
     "status": "completed"
    },
    "tags": []
   },
   "outputs": [],
   "source": [
    "y_pred = classifier.predict(X_test)\n",
    "from sklearn.metrics import confusion_matrix, accuracy_score\n",
    "cm = confusion_matrix(y_test, y_pred)\n",
    "print(cm)"
   ]
  },
  {
   "cell_type": "code",
   "execution_count": null,
   "id": "03b72f1a",
   "metadata": {
    "execution": {
     "iopub.execute_input": "2022-08-20T06:07:33.669147Z",
     "iopub.status.busy": "2022-08-20T06:07:33.668687Z",
     "iopub.status.idle": "2022-08-20T06:07:33.939092Z",
     "shell.execute_reply": "2022-08-20T06:07:33.938043Z"
    },
    "papermill": {
     "duration": 0.314261,
     "end_time": "2022-08-20T06:07:33.941725",
     "exception": false,
     "start_time": "2022-08-20T06:07:33.627464",
     "status": "completed"
    },
    "tags": []
   },
   "outputs": [],
   "source": [
    "sns.heatmap(cm,annot=True)\n",
    "plt.show()"
   ]
  },
  {
   "cell_type": "code",
   "execution_count": null,
   "id": "071dcb37",
   "metadata": {
    "execution": {
     "iopub.execute_input": "2022-08-20T06:07:34.022973Z",
     "iopub.status.busy": "2022-08-20T06:07:34.022515Z",
     "iopub.status.idle": "2022-08-20T06:07:34.031199Z",
     "shell.execute_reply": "2022-08-20T06:07:34.029218Z"
    },
    "papermill": {
     "duration": 0.052488,
     "end_time": "2022-08-20T06:07:34.034143",
     "exception": false,
     "start_time": "2022-08-20T06:07:33.981655",
     "status": "completed"
    },
    "tags": []
   },
   "outputs": [],
   "source": [
    "from sklearn.metrics import accuracy_score\n",
    "LR_acc1 = accuracy_score(y_test, y_pred)\n",
    "print(\"Accuracy score for Logistic Regression Model: {:.2f} %\".format(LR_acc1*100))"
   ]
  },
  {
   "cell_type": "markdown",
   "id": "1d36379d",
   "metadata": {
    "execution": {
     "iopub.execute_input": "2022-08-09T07:39:58.669661Z",
     "iopub.status.busy": "2022-08-09T07:39:58.669251Z",
     "iopub.status.idle": "2022-08-09T07:39:58.676638Z",
     "shell.execute_reply": "2022-08-09T07:39:58.675171Z",
     "shell.execute_reply.started": "2022-08-09T07:39:58.669626Z"
    },
    "papermill": {
     "duration": 0.039773,
     "end_time": "2022-08-20T06:07:34.114092",
     "exception": false,
     "start_time": "2022-08-20T06:07:34.074319",
     "status": "completed"
    },
    "tags": []
   },
   "source": [
    "**ROC Curve**"
   ]
  },
  {
   "cell_type": "code",
   "execution_count": null,
   "id": "904bea08",
   "metadata": {
    "execution": {
     "iopub.execute_input": "2022-08-20T06:07:34.195616Z",
     "iopub.status.busy": "2022-08-20T06:07:34.195175Z",
     "iopub.status.idle": "2022-08-20T06:07:34.210618Z",
     "shell.execute_reply": "2022-08-20T06:07:34.208362Z"
    },
    "papermill": {
     "duration": 0.06182,
     "end_time": "2022-08-20T06:07:34.215516",
     "exception": false,
     "start_time": "2022-08-20T06:07:34.153696",
     "status": "completed"
    },
    "tags": []
   },
   "outputs": [],
   "source": [
    "from sklearn.metrics import roc_curve, auc\n",
    "\n",
    "#---find the predicted probabilities using the test set\n",
    "probs = classifier.predict_proba(X_test)\n",
    "preds = probs[:,1]\n",
    "\n",
    "#---find the FPR, TPR, and threshold---\n",
    "fpr, tpr, threshold = roc_curve(y_test, preds)\n"
   ]
  },
  {
   "cell_type": "code",
   "execution_count": null,
   "id": "76af2416",
   "metadata": {
    "execution": {
     "iopub.execute_input": "2022-08-20T06:07:34.375622Z",
     "iopub.status.busy": "2022-08-20T06:07:34.375203Z",
     "iopub.status.idle": "2022-08-20T06:07:34.623650Z",
     "shell.execute_reply": "2022-08-20T06:07:34.621882Z"
    },
    "papermill": {
     "duration": 0.293301,
     "end_time": "2022-08-20T06:07:34.626598",
     "exception": false,
     "start_time": "2022-08-20T06:07:34.333297",
     "status": "completed"
    },
    "tags": []
   },
   "outputs": [],
   "source": [
    "roc_auc = auc(fpr, tpr)\n",
    "\n",
    "import matplotlib.pyplot as plt\n",
    "plt.plot(fpr, tpr, 'b', label = 'AUC = %0.2f' % roc_auc)\n",
    "plt.plot([0, 1], [0, 1],'r--')\n",
    "plt.xlim([0, 1])\n",
    "plt.ylim([0, 1])\n",
    "plt.ylabel('True Positive Rate (TPR)')\n",
    "plt.xlabel('False Positive Rate (FPR)')\n",
    "plt.title('Receiver Operating Characteristic (ROC)')\n",
    "plt.legend(loc = 'lower right')\n",
    "plt.show()\n"
   ]
  },
  {
   "cell_type": "markdown",
   "id": "9d32e22a",
   "metadata": {
    "papermill": {
     "duration": 0.041042,
     "end_time": "2022-08-20T06:07:34.708579",
     "exception": false,
     "start_time": "2022-08-20T06:07:34.667537",
     "status": "completed"
    },
    "tags": []
   },
   "source": [
    "**By using SMOTE**"
   ]
  },
  {
   "cell_type": "code",
   "execution_count": null,
   "id": "71aa6bbc",
   "metadata": {
    "execution": {
     "iopub.execute_input": "2022-08-20T06:07:34.793224Z",
     "iopub.status.busy": "2022-08-20T06:07:34.792778Z",
     "iopub.status.idle": "2022-08-20T06:07:34.798918Z",
     "shell.execute_reply": "2022-08-20T06:07:34.798001Z"
    },
    "papermill": {
     "duration": 0.050838,
     "end_time": "2022-08-20T06:07:34.801128",
     "exception": false,
     "start_time": "2022-08-20T06:07:34.750290",
     "status": "completed"
    },
    "tags": []
   },
   "outputs": [],
   "source": [
    "from sklearn.model_selection import GridSearchCV\n",
    "\n",
    "parameters = [{'penalty': ['l1','l2'], 'C': np.arange(1,10) }]\n",
    "\n",
    "grid_search = GridSearchCV(estimator = classifier,\n",
    "                           param_grid = parameters,\n",
    "                           scoring = 'accuracy',\n",
    "                           cv = 10,\n",
    "                           n_jobs = -1)"
   ]
  },
  {
   "cell_type": "code",
   "execution_count": null,
   "id": "48d730cc",
   "metadata": {
    "execution": {
     "iopub.execute_input": "2022-08-20T06:07:34.884408Z",
     "iopub.status.busy": "2022-08-20T06:07:34.883648Z",
     "iopub.status.idle": "2022-08-20T06:07:40.606188Z",
     "shell.execute_reply": "2022-08-20T06:07:40.604472Z"
    },
    "papermill": {
     "duration": 5.783519,
     "end_time": "2022-08-20T06:07:40.624792",
     "exception": false,
     "start_time": "2022-08-20T06:07:34.841273",
     "status": "completed"
    },
    "tags": []
   },
   "outputs": [],
   "source": [
    "grid_search.fit(X_train_res, y_train_res)\n",
    "best_accuracy = grid_search.best_score_\n",
    "best_parameters = grid_search.best_params_"
   ]
  },
  {
   "cell_type": "code",
   "execution_count": null,
   "id": "66e79353",
   "metadata": {
    "execution": {
     "iopub.execute_input": "2022-08-20T06:07:40.778092Z",
     "iopub.status.busy": "2022-08-20T06:07:40.777648Z",
     "iopub.status.idle": "2022-08-20T06:07:40.784512Z",
     "shell.execute_reply": "2022-08-20T06:07:40.783070Z"
    },
    "papermill": {
     "duration": 0.054236,
     "end_time": "2022-08-20T06:07:40.788557",
     "exception": false,
     "start_time": "2022-08-20T06:07:40.734321",
     "status": "completed"
    },
    "tags": []
   },
   "outputs": [],
   "source": [
    "print(\"Best Accuracy: {:.2f} %\".format(best_accuracy*100))\n",
    "print(\"Best Parameters:\", best_parameters)"
   ]
  },
  {
   "cell_type": "markdown",
   "id": "c5e6a856",
   "metadata": {
    "papermill": {
     "duration": 0.041254,
     "end_time": "2022-08-20T06:07:40.872547",
     "exception": false,
     "start_time": "2022-08-20T06:07:40.831293",
     "status": "completed"
    },
    "tags": []
   },
   "source": [
    "## **2. SVM**"
   ]
  },
  {
   "cell_type": "code",
   "execution_count": null,
   "id": "edbf69c7",
   "metadata": {
    "execution": {
     "iopub.execute_input": "2022-08-20T06:07:40.959297Z",
     "iopub.status.busy": "2022-08-20T06:07:40.958896Z",
     "iopub.status.idle": "2022-08-20T06:07:51.431964Z",
     "shell.execute_reply": "2022-08-20T06:07:51.430670Z"
    },
    "papermill": {
     "duration": 10.520079,
     "end_time": "2022-08-20T06:07:51.434622",
     "exception": false,
     "start_time": "2022-08-20T06:07:40.914543",
     "status": "completed"
    },
    "tags": []
   },
   "outputs": [],
   "source": [
    "from sklearn.svm import SVC\n",
    "SVMclassifier = SVC(kernel = 'linear', random_state = 0)\n",
    "SVMclassifier.fit(X_train, y_train)"
   ]
  },
  {
   "cell_type": "code",
   "execution_count": null,
   "id": "d10b3604",
   "metadata": {
    "execution": {
     "iopub.execute_input": "2022-08-20T06:07:51.520465Z",
     "iopub.status.busy": "2022-08-20T06:07:51.519736Z",
     "iopub.status.idle": "2022-08-20T06:07:51.552080Z",
     "shell.execute_reply": "2022-08-20T06:07:51.550588Z"
    },
    "papermill": {
     "duration": 0.079275,
     "end_time": "2022-08-20T06:07:51.555297",
     "exception": false,
     "start_time": "2022-08-20T06:07:51.476022",
     "status": "completed"
    },
    "tags": []
   },
   "outputs": [],
   "source": [
    "y_pred = SVMclassifier.predict(X_test)\n",
    "from sklearn.metrics import confusion_matrix, accuracy_score\n",
    "\n",
    "cm = confusion_matrix(y_test, y_pred)\n",
    "print(cm)"
   ]
  },
  {
   "cell_type": "code",
   "execution_count": null,
   "id": "77d7750a",
   "metadata": {
    "execution": {
     "iopub.execute_input": "2022-08-20T06:07:51.640985Z",
     "iopub.status.busy": "2022-08-20T06:07:51.640520Z",
     "iopub.status.idle": "2022-08-20T06:07:51.854511Z",
     "shell.execute_reply": "2022-08-20T06:07:51.853145Z"
    },
    "papermill": {
     "duration": 0.260313,
     "end_time": "2022-08-20T06:07:51.857170",
     "exception": false,
     "start_time": "2022-08-20T06:07:51.596857",
     "status": "completed"
    },
    "tags": []
   },
   "outputs": [],
   "source": [
    "sns.heatmap(cm,annot=True)\n",
    "plt.show()\n"
   ]
  },
  {
   "cell_type": "code",
   "execution_count": null,
   "id": "203aa792",
   "metadata": {
    "execution": {
     "iopub.execute_input": "2022-08-20T06:07:51.944081Z",
     "iopub.status.busy": "2022-08-20T06:07:51.943338Z",
     "iopub.status.idle": "2022-08-20T06:07:51.950757Z",
     "shell.execute_reply": "2022-08-20T06:07:51.948725Z"
    },
    "papermill": {
     "duration": 0.054395,
     "end_time": "2022-08-20T06:07:51.953482",
     "exception": false,
     "start_time": "2022-08-20T06:07:51.899087",
     "status": "completed"
    },
    "tags": []
   },
   "outputs": [],
   "source": [
    "SVM_acc1 = accuracy_score(y_test, y_pred)\n",
    "print(\"Accuracy score for SVM Model: {:.2f} %\".format(SVM_acc1*100))"
   ]
  },
  {
   "cell_type": "markdown",
   "id": "9c0aea78",
   "metadata": {
    "papermill": {
     "duration": 0.042372,
     "end_time": "2022-08-20T06:07:52.037694",
     "exception": false,
     "start_time": "2022-08-20T06:07:51.995322",
     "status": "completed"
    },
    "tags": []
   },
   "source": [
    "**By using SMOTE**"
   ]
  },
  {
   "cell_type": "code",
   "execution_count": null,
   "id": "2adb3eed",
   "metadata": {
    "execution": {
     "iopub.execute_input": "2022-08-20T06:07:52.125330Z",
     "iopub.status.busy": "2022-08-20T06:07:52.124553Z",
     "iopub.status.idle": "2022-08-20T06:08:34.778103Z",
     "shell.execute_reply": "2022-08-20T06:08:34.776608Z"
    },
    "papermill": {
     "duration": 42.704095,
     "end_time": "2022-08-20T06:08:34.784333",
     "exception": false,
     "start_time": "2022-08-20T06:07:52.080238",
     "status": "completed"
    },
    "tags": []
   },
   "outputs": [],
   "source": [
    "from sklearn.svm import SVC\n",
    "\n",
    "classifier2 = SVC(kernel = 'linear', random_state = 0)\n",
    "SVM_classifier = classifier2.fit(X_train_res, y_train_res)"
   ]
  },
  {
   "cell_type": "code",
   "execution_count": null,
   "id": "464affad",
   "metadata": {
    "execution": {
     "iopub.execute_input": "2022-08-20T06:08:34.871558Z",
     "iopub.status.busy": "2022-08-20T06:08:34.871160Z",
     "iopub.status.idle": "2022-08-20T06:08:34.957294Z",
     "shell.execute_reply": "2022-08-20T06:08:34.955333Z"
    },
    "papermill": {
     "duration": 0.133607,
     "end_time": "2022-08-20T06:08:34.960319",
     "exception": false,
     "start_time": "2022-08-20T06:08:34.826712",
     "status": "completed"
    },
    "tags": []
   },
   "outputs": [],
   "source": [
    "from sklearn.metrics import confusion_matrix, accuracy_score\n",
    "\n",
    "y_pred = SVM_classifier.predict(X_test)\n",
    "cm = confusion_matrix(y_test, y_pred)\n",
    "print(cm)"
   ]
  },
  {
   "cell_type": "code",
   "execution_count": null,
   "id": "f5403bc2",
   "metadata": {
    "execution": {
     "iopub.execute_input": "2022-08-20T06:08:35.050346Z",
     "iopub.status.busy": "2022-08-20T06:08:35.048950Z",
     "iopub.status.idle": "2022-08-20T06:08:35.259643Z",
     "shell.execute_reply": "2022-08-20T06:08:35.258158Z"
    },
    "papermill": {
     "duration": 0.258163,
     "end_time": "2022-08-20T06:08:35.262363",
     "exception": false,
     "start_time": "2022-08-20T06:08:35.004200",
     "status": "completed"
    },
    "tags": []
   },
   "outputs": [],
   "source": [
    "sns.heatmap(cm,annot=True)\n",
    "plt.show()"
   ]
  },
  {
   "cell_type": "code",
   "execution_count": null,
   "id": "58d22d27",
   "metadata": {
    "execution": {
     "iopub.execute_input": "2022-08-20T06:08:35.351694Z",
     "iopub.status.busy": "2022-08-20T06:08:35.350434Z",
     "iopub.status.idle": "2022-08-20T06:08:35.359378Z",
     "shell.execute_reply": "2022-08-20T06:08:35.357828Z"
    },
    "papermill": {
     "duration": 0.05633,
     "end_time": "2022-08-20T06:08:35.362054",
     "exception": false,
     "start_time": "2022-08-20T06:08:35.305724",
     "status": "completed"
    },
    "tags": []
   },
   "outputs": [],
   "source": [
    "SVM_acc2 = accuracy_score(y_test, y_pred)\n",
    "print(\"Accuracy score for SVM Model: {:.2f} %\".format(SVM_acc2*100))"
   ]
  },
  {
   "cell_type": "markdown",
   "id": "7a980ba2",
   "metadata": {
    "papermill": {
     "duration": 0.043402,
     "end_time": "2022-08-20T06:08:35.449386",
     "exception": false,
     "start_time": "2022-08-20T06:08:35.405984",
     "status": "completed"
    },
    "tags": []
   },
   "source": [
    "**Hyperparameter Tuning**\n",
    "- Execution Time : 2 hour (approx)"
   ]
  },
  {
   "cell_type": "code",
   "execution_count": null,
   "id": "b7019cdf",
   "metadata": {
    "execution": {
     "iopub.execute_input": "2022-08-20T06:08:35.536799Z",
     "iopub.status.busy": "2022-08-20T06:08:35.536400Z",
     "iopub.status.idle": "2022-08-20T06:08:35.542116Z",
     "shell.execute_reply": "2022-08-20T06:08:35.540687Z"
    },
    "papermill": {
     "duration": 0.052483,
     "end_time": "2022-08-20T06:08:35.544714",
     "exception": false,
     "start_time": "2022-08-20T06:08:35.492231",
     "status": "completed"
    },
    "tags": []
   },
   "outputs": [],
   "source": [
    "from sklearn.model_selection import RandomizedSearchCV\n",
    "\n",
    "parameters = [{'C': np.arange(1,10) }]\n",
    "\n",
    "grid_search = RandomizedSearchCV(estimator = SVMclassifier,\n",
    "                           param_distributions = parameters,\n",
    "                           scoring = 'accuracy',\n",
    "                           cv = 10,\n",
    "                           n_jobs = -1)"
   ]
  },
  {
   "cell_type": "code",
   "execution_count": null,
   "id": "fcbce866",
   "metadata": {
    "execution": {
     "iopub.execute_input": "2022-08-20T06:08:35.632579Z",
     "iopub.status.busy": "2022-08-20T06:08:35.631257Z",
     "iopub.status.idle": "2022-08-20T06:08:35.637312Z",
     "shell.execute_reply": "2022-08-20T06:08:35.636219Z"
    },
    "papermill": {
     "duration": 0.052444,
     "end_time": "2022-08-20T06:08:35.639779",
     "exception": false,
     "start_time": "2022-08-20T06:08:35.587335",
     "status": "completed"
    },
    "tags": []
   },
   "outputs": [],
   "source": [
    "grid_search.fit(X_train_res, y_train_res)\n",
    "SVM_acc_sorte = grid_search.best_score_\n",
    "best_parameters = grid_search.best_params_"
   ]
  },
  {
   "cell_type": "code",
   "execution_count": null,
   "id": "ba53df26",
   "metadata": {
    "execution": {
     "iopub.execute_input": "2022-08-20T06:08:35.727446Z",
     "iopub.status.busy": "2022-08-20T06:08:35.726607Z",
     "iopub.status.idle": "2022-08-20T06:08:35.731726Z",
     "shell.execute_reply": "2022-08-20T06:08:35.730619Z"
    },
    "papermill": {
     "duration": 0.052211,
     "end_time": "2022-08-20T06:08:35.734488",
     "exception": false,
     "start_time": "2022-08-20T06:08:35.682277",
     "status": "completed"
    },
    "tags": []
   },
   "outputs": [],
   "source": [
    "print(\"Best Accuracy of SVM: {:.2f} %\".format(SVM_acc_sorte*100))\n",
    "print(\"Best Parameters of SVM:\", best_parameters)"
   ]
  },
  {
   "cell_type": "markdown",
   "id": "b582dd4a",
   "metadata": {
    "papermill": {
     "duration": 0.043118,
     "end_time": "2022-08-20T06:08:35.820540",
     "exception": false,
     "start_time": "2022-08-20T06:08:35.777422",
     "status": "completed"
    },
    "tags": []
   },
   "source": [
    "**Grid Serarch is time consuming, if you have time then try the above code. It will improve your Accuracy**"
   ]
  },
  {
   "cell_type": "markdown",
   "id": "cf498d79",
   "metadata": {
    "papermill": {
     "duration": 0.042624,
     "end_time": "2022-08-20T06:08:35.907100",
     "exception": false,
     "start_time": "2022-08-20T06:08:35.864476",
     "status": "completed"
    },
    "tags": []
   },
   "source": [
    "## **3. K-NN**"
   ]
  },
  {
   "cell_type": "code",
   "execution_count": null,
   "id": "efbb0238",
   "metadata": {
    "execution": {
     "iopub.execute_input": "2022-08-20T06:08:35.995629Z",
     "iopub.status.busy": "2022-08-20T06:08:35.995148Z",
     "iopub.status.idle": "2022-08-20T06:08:36.011476Z",
     "shell.execute_reply": "2022-08-20T06:08:36.010210Z"
    },
    "papermill": {
     "duration": 0.064109,
     "end_time": "2022-08-20T06:08:36.014360",
     "exception": false,
     "start_time": "2022-08-20T06:08:35.950251",
     "status": "completed"
    },
    "tags": []
   },
   "outputs": [],
   "source": [
    "from sklearn.neighbors import KNeighborsClassifier\n",
    "\n",
    "KNNclassifier = KNeighborsClassifier(n_neighbors = 5, metric = 'minkowski', p = 2)\n",
    "KNNclassifier.fit(X_train, y_train)"
   ]
  },
  {
   "cell_type": "code",
   "execution_count": null,
   "id": "2458db22",
   "metadata": {
    "execution": {
     "iopub.execute_input": "2022-08-20T06:08:36.101618Z",
     "iopub.status.busy": "2022-08-20T06:08:36.101222Z",
     "iopub.status.idle": "2022-08-20T06:08:36.169724Z",
     "shell.execute_reply": "2022-08-20T06:08:36.167902Z"
    },
    "papermill": {
     "duration": 0.116546,
     "end_time": "2022-08-20T06:08:36.173283",
     "exception": false,
     "start_time": "2022-08-20T06:08:36.056737",
     "status": "completed"
    },
    "tags": []
   },
   "outputs": [],
   "source": [
    "y_pred = KNNclassifier.predict(X_test)\n",
    "cm = confusion_matrix(y_test, y_pred)\n",
    "print(cm)"
   ]
  },
  {
   "cell_type": "code",
   "execution_count": null,
   "id": "2c9413f7",
   "metadata": {
    "execution": {
     "iopub.execute_input": "2022-08-20T06:08:36.263060Z",
     "iopub.status.busy": "2022-08-20T06:08:36.262644Z",
     "iopub.status.idle": "2022-08-20T06:08:36.469455Z",
     "shell.execute_reply": "2022-08-20T06:08:36.468033Z"
    },
    "papermill": {
     "duration": 0.25572,
     "end_time": "2022-08-20T06:08:36.472344",
     "exception": false,
     "start_time": "2022-08-20T06:08:36.216624",
     "status": "completed"
    },
    "tags": []
   },
   "outputs": [],
   "source": [
    "sns.heatmap(cm,annot=True)\n",
    "plt.show()\n"
   ]
  },
  {
   "cell_type": "code",
   "execution_count": null,
   "id": "cd715eb8",
   "metadata": {
    "execution": {
     "iopub.execute_input": "2022-08-20T06:08:36.561528Z",
     "iopub.status.busy": "2022-08-20T06:08:36.561068Z",
     "iopub.status.idle": "2022-08-20T06:08:36.570397Z",
     "shell.execute_reply": "2022-08-20T06:08:36.568019Z"
    },
    "papermill": {
     "duration": 0.05882,
     "end_time": "2022-08-20T06:08:36.574325",
     "exception": false,
     "start_time": "2022-08-20T06:08:36.515505",
     "status": "completed"
    },
    "tags": []
   },
   "outputs": [],
   "source": [
    "KNN_acc1 = accuracy_score(y_test, y_pred)\n",
    "print(\"Best Accuracy of K-NN: {:.2f} %\".format(KNN_acc1*100))"
   ]
  },
  {
   "cell_type": "markdown",
   "id": "e64e688a",
   "metadata": {
    "papermill": {
     "duration": 0.043162,
     "end_time": "2022-08-20T06:08:36.662149",
     "exception": false,
     "start_time": "2022-08-20T06:08:36.618987",
     "status": "completed"
    },
    "tags": []
   },
   "source": [
    "**By using SMOTE**"
   ]
  },
  {
   "cell_type": "code",
   "execution_count": null,
   "id": "0045a94a",
   "metadata": {
    "execution": {
     "iopub.execute_input": "2022-08-20T06:08:36.752385Z",
     "iopub.status.busy": "2022-08-20T06:08:36.751030Z",
     "iopub.status.idle": "2022-08-20T06:08:36.770948Z",
     "shell.execute_reply": "2022-08-20T06:08:36.769757Z"
    },
    "papermill": {
     "duration": 0.067585,
     "end_time": "2022-08-20T06:08:36.773249",
     "exception": false,
     "start_time": "2022-08-20T06:08:36.705664",
     "status": "completed"
    },
    "tags": []
   },
   "outputs": [],
   "source": [
    "from sklearn.neighbors import KNeighborsClassifier\n",
    "KNN_classifier = KNeighborsClassifier(n_neighbors = 5, metric = 'minkowski', p = 2)\n",
    "KNN_classifier.fit(X_train_res, y_train_res)"
   ]
  },
  {
   "cell_type": "code",
   "execution_count": null,
   "id": "80271675",
   "metadata": {
    "execution": {
     "iopub.execute_input": "2022-08-20T06:08:36.863108Z",
     "iopub.status.busy": "2022-08-20T06:08:36.862656Z",
     "iopub.status.idle": "2022-08-20T06:08:36.932933Z",
     "shell.execute_reply": "2022-08-20T06:08:36.931977Z"
    },
    "papermill": {
     "duration": 0.119409,
     "end_time": "2022-08-20T06:08:36.935255",
     "exception": false,
     "start_time": "2022-08-20T06:08:36.815846",
     "status": "completed"
    },
    "tags": []
   },
   "outputs": [],
   "source": [
    "y_pred = KNN_classifier.predict(X_test)\n",
    "y_pred"
   ]
  },
  {
   "cell_type": "code",
   "execution_count": null,
   "id": "2c57a229",
   "metadata": {
    "execution": {
     "iopub.execute_input": "2022-08-20T06:08:37.105568Z",
     "iopub.status.busy": "2022-08-20T06:08:37.104651Z",
     "iopub.status.idle": "2022-08-20T06:08:37.114072Z",
     "shell.execute_reply": "2022-08-20T06:08:37.112395Z"
    },
    "papermill": {
     "duration": 0.058622,
     "end_time": "2022-08-20T06:08:37.116999",
     "exception": false,
     "start_time": "2022-08-20T06:08:37.058377",
     "status": "completed"
    },
    "tags": []
   },
   "outputs": [],
   "source": [
    "cm = confusion_matrix(y_test, y_pred)\n",
    "print(cm)"
   ]
  },
  {
   "cell_type": "code",
   "execution_count": null,
   "id": "86e33959",
   "metadata": {
    "execution": {
     "iopub.execute_input": "2022-08-20T06:08:37.208451Z",
     "iopub.status.busy": "2022-08-20T06:08:37.207639Z",
     "iopub.status.idle": "2022-08-20T06:08:37.417519Z",
     "shell.execute_reply": "2022-08-20T06:08:37.416078Z"
    },
    "papermill": {
     "duration": 0.258906,
     "end_time": "2022-08-20T06:08:37.420193",
     "exception": false,
     "start_time": "2022-08-20T06:08:37.161287",
     "status": "completed"
    },
    "tags": []
   },
   "outputs": [],
   "source": [
    "sns.heatmap(cm,annot=True)\n",
    "plt.show()"
   ]
  },
  {
   "cell_type": "code",
   "execution_count": null,
   "id": "5abaf28a",
   "metadata": {
    "execution": {
     "iopub.execute_input": "2022-08-20T06:08:37.510842Z",
     "iopub.status.busy": "2022-08-20T06:08:37.509640Z",
     "iopub.status.idle": "2022-08-20T06:08:37.517652Z",
     "shell.execute_reply": "2022-08-20T06:08:37.515553Z"
    },
    "papermill": {
     "duration": 0.056238,
     "end_time": "2022-08-20T06:08:37.520310",
     "exception": false,
     "start_time": "2022-08-20T06:08:37.464072",
     "status": "completed"
    },
    "tags": []
   },
   "outputs": [],
   "source": [
    "KNN_acc2 = accuracy_score(y_test, y_pred)\n",
    "print(\"Best Accuracy of K-NN: {:.2f} %\".format(KNN_acc2*100))"
   ]
  },
  {
   "cell_type": "markdown",
   "id": "2ed05098",
   "metadata": {
    "papermill": {
     "duration": 0.044269,
     "end_time": "2022-08-20T06:08:37.608281",
     "exception": false,
     "start_time": "2022-08-20T06:08:37.564012",
     "status": "completed"
    },
    "tags": []
   },
   "source": [
    "**Hyperparameter Tuning**"
   ]
  },
  {
   "cell_type": "code",
   "execution_count": null,
   "id": "dee2db12",
   "metadata": {
    "execution": {
     "iopub.execute_input": "2022-08-20T06:08:37.700391Z",
     "iopub.status.busy": "2022-08-20T06:08:37.699568Z",
     "iopub.status.idle": "2022-08-20T06:08:37.706016Z",
     "shell.execute_reply": "2022-08-20T06:08:37.704756Z"
    },
    "papermill": {
     "duration": 0.056319,
     "end_time": "2022-08-20T06:08:37.709114",
     "exception": false,
     "start_time": "2022-08-20T06:08:37.652795",
     "status": "completed"
    },
    "tags": []
   },
   "outputs": [],
   "source": [
    "from sklearn.model_selection import GridSearchCV\n",
    "\n",
    "parameters = [{ 'n_neighbors' :  np.arange(1,10)  }]\n",
    "\n",
    "grid_search = GridSearchCV(estimator = KNN_classifier,\n",
    "                           param_grid = parameters,\n",
    "                           scoring = 'accuracy',\n",
    "                           cv = 10,\n",
    "                           n_jobs = -1)"
   ]
  },
  {
   "cell_type": "code",
   "execution_count": null,
   "id": "b519eb38",
   "metadata": {
    "execution": {
     "iopub.execute_input": "2022-08-20T06:08:37.799239Z",
     "iopub.status.busy": "2022-08-20T06:08:37.798592Z",
     "iopub.status.idle": "2022-08-20T06:08:39.665949Z",
     "shell.execute_reply": "2022-08-20T06:08:39.664778Z"
    },
    "papermill": {
     "duration": 1.915829,
     "end_time": "2022-08-20T06:08:39.668988",
     "exception": false,
     "start_time": "2022-08-20T06:08:37.753159",
     "status": "completed"
    },
    "tags": []
   },
   "outputs": [],
   "source": [
    "grid_search.fit(X_train_res, y_train_res)\n",
    "KNN_acc3 = grid_search.best_score_\n",
    "best_parameters3 = grid_search.best_params_"
   ]
  },
  {
   "cell_type": "code",
   "execution_count": null,
   "id": "e25512d0",
   "metadata": {
    "execution": {
     "iopub.execute_input": "2022-08-20T06:08:39.761025Z",
     "iopub.status.busy": "2022-08-20T06:08:39.760140Z",
     "iopub.status.idle": "2022-08-20T06:08:39.768190Z",
     "shell.execute_reply": "2022-08-20T06:08:39.766401Z"
    },
    "papermill": {
     "duration": 0.056781,
     "end_time": "2022-08-20T06:08:39.770910",
     "exception": false,
     "start_time": "2022-08-20T06:08:39.714129",
     "status": "completed"
    },
    "tags": []
   },
   "outputs": [],
   "source": [
    "print(\"Best Accuracy of KNN after Hyperparameter tuning: {:.2f} %\".format(KNN_acc3*100))\n",
    "print(\"Best Parameters of KNN:\", best_parameters3)"
   ]
  },
  {
   "cell_type": "markdown",
   "id": "9cbda7db",
   "metadata": {
    "papermill": {
     "duration": 0.044845,
     "end_time": "2022-08-20T06:08:39.859319",
     "exception": false,
     "start_time": "2022-08-20T06:08:39.814474",
     "status": "completed"
    },
    "tags": []
   },
   "source": [
    "## **4. Decision Tree Classifier**"
   ]
  },
  {
   "cell_type": "code",
   "execution_count": null,
   "id": "a86d1c81",
   "metadata": {
    "execution": {
     "iopub.execute_input": "2022-08-20T06:08:39.951346Z",
     "iopub.status.busy": "2022-08-20T06:08:39.950938Z",
     "iopub.status.idle": "2022-08-20T06:08:39.973373Z",
     "shell.execute_reply": "2022-08-20T06:08:39.971905Z"
    },
    "papermill": {
     "duration": 0.071907,
     "end_time": "2022-08-20T06:08:39.976390",
     "exception": false,
     "start_time": "2022-08-20T06:08:39.904483",
     "status": "completed"
    },
    "tags": []
   },
   "outputs": [],
   "source": [
    "from sklearn.tree import DecisionTreeClassifier\n",
    "DTclassifier = DecisionTreeClassifier(criterion = 'entropy', random_state = 0)\n",
    "DTclassifier.fit(X_train, y_train)"
   ]
  },
  {
   "cell_type": "code",
   "execution_count": null,
   "id": "ba56a222",
   "metadata": {
    "execution": {
     "iopub.execute_input": "2022-08-20T06:08:40.067857Z",
     "iopub.status.busy": "2022-08-20T06:08:40.067410Z",
     "iopub.status.idle": "2022-08-20T06:08:40.078260Z",
     "shell.execute_reply": "2022-08-20T06:08:40.076644Z"
    },
    "papermill": {
     "duration": 0.059507,
     "end_time": "2022-08-20T06:08:40.080767",
     "exception": false,
     "start_time": "2022-08-20T06:08:40.021260",
     "status": "completed"
    },
    "tags": []
   },
   "outputs": [],
   "source": [
    "y_pred = DTclassifier.predict(X_test)\n",
    "cm = confusion_matrix(y_test, y_pred)\n",
    "print(cm)"
   ]
  },
  {
   "cell_type": "code",
   "execution_count": null,
   "id": "25b706c4",
   "metadata": {
    "execution": {
     "iopub.execute_input": "2022-08-20T06:08:40.171437Z",
     "iopub.status.busy": "2022-08-20T06:08:40.170789Z",
     "iopub.status.idle": "2022-08-20T06:08:40.185411Z",
     "shell.execute_reply": "2022-08-20T06:08:40.182300Z"
    },
    "papermill": {
     "duration": 0.066104,
     "end_time": "2022-08-20T06:08:40.191009",
     "exception": false,
     "start_time": "2022-08-20T06:08:40.124905",
     "status": "completed"
    },
    "tags": []
   },
   "outputs": [],
   "source": [
    "y_pred = classifier.predict(X_test)\n",
    "DT_acc1 = accuracy_score(y_test, y_pred)\n",
    "print(f\"Accuracy score for Decision Tree: {DT_acc1*100}\")"
   ]
  },
  {
   "cell_type": "markdown",
   "id": "3fac992b",
   "metadata": {
    "papermill": {
     "duration": 0.044877,
     "end_time": "2022-08-20T06:08:40.356032",
     "exception": false,
     "start_time": "2022-08-20T06:08:40.311155",
     "status": "completed"
    },
    "tags": []
   },
   "source": [
    "**By using SMOTE**"
   ]
  },
  {
   "cell_type": "code",
   "execution_count": null,
   "id": "ce512ba7",
   "metadata": {
    "execution": {
     "iopub.execute_input": "2022-08-20T06:08:40.448955Z",
     "iopub.status.busy": "2022-08-20T06:08:40.448522Z",
     "iopub.status.idle": "2022-08-20T06:08:40.474762Z",
     "shell.execute_reply": "2022-08-20T06:08:40.473277Z"
    },
    "papermill": {
     "duration": 0.07582,
     "end_time": "2022-08-20T06:08:40.477933",
     "exception": false,
     "start_time": "2022-08-20T06:08:40.402113",
     "status": "completed"
    },
    "tags": []
   },
   "outputs": [],
   "source": [
    "from sklearn.tree import DecisionTreeClassifier\n",
    "DT_classifier = DecisionTreeClassifier(criterion = 'entropy', random_state = 0)\n",
    "DT_classifier.fit(X_train_res, y_train_res)"
   ]
  },
  {
   "cell_type": "code",
   "execution_count": null,
   "id": "0053a840",
   "metadata": {
    "execution": {
     "iopub.execute_input": "2022-08-20T06:08:40.570761Z",
     "iopub.status.busy": "2022-08-20T06:08:40.570074Z",
     "iopub.status.idle": "2022-08-20T06:08:40.581723Z",
     "shell.execute_reply": "2022-08-20T06:08:40.580420Z"
    },
    "papermill": {
     "duration": 0.06134,
     "end_time": "2022-08-20T06:08:40.585023",
     "exception": false,
     "start_time": "2022-08-20T06:08:40.523683",
     "status": "completed"
    },
    "tags": []
   },
   "outputs": [],
   "source": [
    "y_pred = DT_classifier.predict(X_test)\n",
    "cm = confusion_matrix(y_test, y_pred)\n",
    "print(cm)"
   ]
  },
  {
   "cell_type": "code",
   "execution_count": null,
   "id": "ccdf0a77",
   "metadata": {
    "execution": {
     "iopub.execute_input": "2022-08-20T06:08:40.678004Z",
     "iopub.status.busy": "2022-08-20T06:08:40.677600Z",
     "iopub.status.idle": "2022-08-20T06:08:40.951282Z",
     "shell.execute_reply": "2022-08-20T06:08:40.949846Z"
    },
    "papermill": {
     "duration": 0.323184,
     "end_time": "2022-08-20T06:08:40.954300",
     "exception": false,
     "start_time": "2022-08-20T06:08:40.631116",
     "status": "completed"
    },
    "tags": []
   },
   "outputs": [],
   "source": [
    "sns.heatmap(cm,annot=True)\n",
    "plt.show()"
   ]
  },
  {
   "cell_type": "code",
   "execution_count": null,
   "id": "fd22e160",
   "metadata": {
    "execution": {
     "iopub.execute_input": "2022-08-20T06:08:41.047073Z",
     "iopub.status.busy": "2022-08-20T06:08:41.046612Z",
     "iopub.status.idle": "2022-08-20T06:08:41.054862Z",
     "shell.execute_reply": "2022-08-20T06:08:41.052905Z"
    },
    "papermill": {
     "duration": 0.058533,
     "end_time": "2022-08-20T06:08:41.057948",
     "exception": false,
     "start_time": "2022-08-20T06:08:40.999415",
     "status": "completed"
    },
    "tags": []
   },
   "outputs": [],
   "source": [
    "DT_acc2 = accuracy_score(y_test, y_pred)\n",
    "print(\"Accuracy score for Decision Tree: {:.2f} %\".format(DT_acc2*100))"
   ]
  },
  {
   "cell_type": "markdown",
   "id": "a821e362",
   "metadata": {
    "papermill": {
     "duration": 0.04495,
     "end_time": "2022-08-20T06:08:41.148109",
     "exception": false,
     "start_time": "2022-08-20T06:08:41.103159",
     "status": "completed"
    },
    "tags": []
   },
   "source": [
    "**Hyperparameter Tuning**"
   ]
  },
  {
   "cell_type": "code",
   "execution_count": null,
   "id": "4369dd50",
   "metadata": {
    "execution": {
     "iopub.execute_input": "2022-08-20T06:08:41.241759Z",
     "iopub.status.busy": "2022-08-20T06:08:41.241317Z",
     "iopub.status.idle": "2022-08-20T06:08:41.248311Z",
     "shell.execute_reply": "2022-08-20T06:08:41.246857Z"
    },
    "papermill": {
     "duration": 0.057392,
     "end_time": "2022-08-20T06:08:41.251132",
     "exception": false,
     "start_time": "2022-08-20T06:08:41.193740",
     "status": "completed"
    },
    "tags": []
   },
   "outputs": [],
   "source": [
    "from sklearn.model_selection import GridSearchCV\n",
    "\n",
    "parameters = [{  }]\n",
    "\n",
    "grid_search = GridSearchCV(estimator = DT_classifier,\n",
    "                           param_grid = parameters,\n",
    "                           scoring = 'accuracy',\n",
    "                           cv = 10,\n",
    "                           n_jobs = -1)"
   ]
  },
  {
   "cell_type": "code",
   "execution_count": null,
   "id": "0bf16b9c",
   "metadata": {
    "execution": {
     "iopub.execute_input": "2022-08-20T06:08:41.343419Z",
     "iopub.status.busy": "2022-08-20T06:08:41.343020Z",
     "iopub.status.idle": "2022-08-20T06:08:41.484097Z",
     "shell.execute_reply": "2022-08-20T06:08:41.482320Z"
    },
    "papermill": {
     "duration": 0.191271,
     "end_time": "2022-08-20T06:08:41.487420",
     "exception": false,
     "start_time": "2022-08-20T06:08:41.296149",
     "status": "completed"
    },
    "tags": []
   },
   "outputs": [],
   "source": [
    "grid_search.fit(X_train_res, y_train_res)\n",
    "DT_acc3 = grid_search.best_score_\n",
    "best_parameters5 = grid_search.best_params_"
   ]
  },
  {
   "cell_type": "code",
   "execution_count": null,
   "id": "8a0bd8f3",
   "metadata": {
    "execution": {
     "iopub.execute_input": "2022-08-20T06:08:41.581990Z",
     "iopub.status.busy": "2022-08-20T06:08:41.581525Z",
     "iopub.status.idle": "2022-08-20T06:08:41.588908Z",
     "shell.execute_reply": "2022-08-20T06:08:41.587098Z"
    },
    "papermill": {
     "duration": 0.057764,
     "end_time": "2022-08-20T06:08:41.591788",
     "exception": false,
     "start_time": "2022-08-20T06:08:41.534024",
     "status": "completed"
    },
    "tags": []
   },
   "outputs": [],
   "source": [
    "print(\"Best Accuracy of Decision Tree Classifier: {:.2f} %\".format(DT_acc3*100))\n",
    "print(\"Best Parameters of Decision Tree Classifier:\", best_parameters5)"
   ]
  },
  {
   "cell_type": "markdown",
   "id": "71bedd74",
   "metadata": {
    "papermill": {
     "duration": 0.045226,
     "end_time": "2022-08-20T06:08:41.682594",
     "exception": false,
     "start_time": "2022-08-20T06:08:41.637368",
     "status": "completed"
    },
    "tags": []
   },
   "source": [
    "## **6. Random Forest Classifier**"
   ]
  },
  {
   "cell_type": "code",
   "execution_count": null,
   "id": "2985c0e7",
   "metadata": {
    "execution": {
     "iopub.execute_input": "2022-08-20T06:08:41.775571Z",
     "iopub.status.busy": "2022-08-20T06:08:41.774669Z",
     "iopub.status.idle": "2022-08-20T06:08:41.825441Z",
     "shell.execute_reply": "2022-08-20T06:08:41.823916Z"
    },
    "papermill": {
     "duration": 0.100258,
     "end_time": "2022-08-20T06:08:41.828332",
     "exception": false,
     "start_time": "2022-08-20T06:08:41.728074",
     "status": "completed"
    },
    "tags": []
   },
   "outputs": [],
   "source": [
    "from sklearn.ensemble import RandomForestClassifier\n",
    "RFclassifier = RandomForestClassifier(n_estimators = 10, criterion = 'entropy', random_state = 0)\n",
    "RFclassifier.fit(X_train, y_train)"
   ]
  },
  {
   "cell_type": "code",
   "execution_count": null,
   "id": "1c0eb368",
   "metadata": {
    "execution": {
     "iopub.execute_input": "2022-08-20T06:08:41.922302Z",
     "iopub.status.busy": "2022-08-20T06:08:41.921874Z",
     "iopub.status.idle": "2022-08-20T06:08:41.937626Z",
     "shell.execute_reply": "2022-08-20T06:08:41.935673Z"
    },
    "papermill": {
     "duration": 0.067347,
     "end_time": "2022-08-20T06:08:41.940938",
     "exception": false,
     "start_time": "2022-08-20T06:08:41.873591",
     "status": "completed"
    },
    "tags": []
   },
   "outputs": [],
   "source": [
    "y_pred = RFclassifier.predict(X_test)\n",
    "from sklearn.metrics import confusion_matrix, accuracy_score\n",
    "cm = confusion_matrix(y_test, y_pred)\n",
    "print(cm)\n"
   ]
  },
  {
   "cell_type": "code",
   "execution_count": null,
   "id": "5297ac60",
   "metadata": {
    "execution": {
     "iopub.execute_input": "2022-08-20T06:08:42.035113Z",
     "iopub.status.busy": "2022-08-20T06:08:42.034544Z",
     "iopub.status.idle": "2022-08-20T06:08:42.044186Z",
     "shell.execute_reply": "2022-08-20T06:08:42.042154Z"
    },
    "papermill": {
     "duration": 0.061107,
     "end_time": "2022-08-20T06:08:42.047399",
     "exception": false,
     "start_time": "2022-08-20T06:08:41.986292",
     "status": "completed"
    },
    "tags": []
   },
   "outputs": [],
   "source": [
    "RF_acc1 = accuracy_score(y_test, y_pred)\n",
    "print(f\"Random Forest Classification accuracy: {RF_acc1*100}\")"
   ]
  },
  {
   "cell_type": "markdown",
   "id": "8b23eee2",
   "metadata": {
    "papermill": {
     "duration": 0.045856,
     "end_time": "2022-08-20T06:08:42.138475",
     "exception": false,
     "start_time": "2022-08-20T06:08:42.092619",
     "status": "completed"
    },
    "tags": []
   },
   "source": []
  },
  {
   "cell_type": "code",
   "execution_count": null,
   "id": "df118180",
   "metadata": {
    "execution": {
     "iopub.execute_input": "2022-08-20T06:08:42.232575Z",
     "iopub.status.busy": "2022-08-20T06:08:42.232174Z",
     "iopub.status.idle": "2022-08-20T06:08:42.312125Z",
     "shell.execute_reply": "2022-08-20T06:08:42.310675Z"
    },
    "papermill": {
     "duration": 0.130915,
     "end_time": "2022-08-20T06:08:42.315038",
     "exception": false,
     "start_time": "2022-08-20T06:08:42.184123",
     "status": "completed"
    },
    "tags": []
   },
   "outputs": [],
   "source": [
    "from sklearn.ensemble import RandomForestClassifier\n",
    "RF_classifier = RandomForestClassifier(n_estimators = 10, criterion = 'entropy', random_state = 0)\n",
    "RF_classifier.fit(X_train_res, y_train_res)"
   ]
  },
  {
   "cell_type": "code",
   "execution_count": null,
   "id": "8dce4f99",
   "metadata": {
    "execution": {
     "iopub.execute_input": "2022-08-20T06:08:42.408279Z",
     "iopub.status.busy": "2022-08-20T06:08:42.407882Z",
     "iopub.status.idle": "2022-08-20T06:08:42.422314Z",
     "shell.execute_reply": "2022-08-20T06:08:42.420914Z"
    },
    "papermill": {
     "duration": 0.065299,
     "end_time": "2022-08-20T06:08:42.425349",
     "exception": false,
     "start_time": "2022-08-20T06:08:42.360050",
     "status": "completed"
    },
    "tags": []
   },
   "outputs": [],
   "source": [
    "y_pred = RF_classifier.predict(X_test)\n",
    "cm = confusion_matrix(y_test, y_pred)\n",
    "print(cm)"
   ]
  },
  {
   "cell_type": "code",
   "execution_count": null,
   "id": "e6bdbf31",
   "metadata": {
    "execution": {
     "iopub.execute_input": "2022-08-20T06:08:42.519206Z",
     "iopub.status.busy": "2022-08-20T06:08:42.518465Z",
     "iopub.status.idle": "2022-08-20T06:08:42.796749Z",
     "shell.execute_reply": "2022-08-20T06:08:42.795228Z"
    },
    "papermill": {
     "duration": 0.328757,
     "end_time": "2022-08-20T06:08:42.799511",
     "exception": false,
     "start_time": "2022-08-20T06:08:42.470754",
     "status": "completed"
    },
    "tags": []
   },
   "outputs": [],
   "source": [
    "sns.heatmap(cm,annot=True)\n",
    "plt.show()"
   ]
  },
  {
   "cell_type": "code",
   "execution_count": null,
   "id": "b81dbbdc",
   "metadata": {
    "execution": {
     "iopub.execute_input": "2022-08-20T06:08:42.895276Z",
     "iopub.status.busy": "2022-08-20T06:08:42.894463Z",
     "iopub.status.idle": "2022-08-20T06:08:42.902462Z",
     "shell.execute_reply": "2022-08-20T06:08:42.900691Z"
    },
    "papermill": {
     "duration": 0.060462,
     "end_time": "2022-08-20T06:08:42.906373",
     "exception": false,
     "start_time": "2022-08-20T06:08:42.845911",
     "status": "completed"
    },
    "tags": []
   },
   "outputs": [],
   "source": [
    "RF_acc2 = accuracy_score(y_test, y_pred)\n",
    "print(\"Accuracy score for Random Forest: {:.2f} %\".format(RF_acc2*100))"
   ]
  },
  {
   "cell_type": "markdown",
   "id": "457ed468",
   "metadata": {
    "papermill": {
     "duration": 0.047706,
     "end_time": "2022-08-20T06:08:43.001925",
     "exception": false,
     "start_time": "2022-08-20T06:08:42.954219",
     "status": "completed"
    },
    "tags": []
   },
   "source": [
    "**Hyperparameter Tuning**"
   ]
  },
  {
   "cell_type": "code",
   "execution_count": null,
   "id": "3733d7e2",
   "metadata": {
    "execution": {
     "iopub.execute_input": "2022-08-20T06:08:43.097076Z",
     "iopub.status.busy": "2022-08-20T06:08:43.096649Z",
     "iopub.status.idle": "2022-08-20T06:08:43.104007Z",
     "shell.execute_reply": "2022-08-20T06:08:43.102600Z"
    },
    "papermill": {
     "duration": 0.057475,
     "end_time": "2022-08-20T06:08:43.106674",
     "exception": false,
     "start_time": "2022-08-20T06:08:43.049199",
     "status": "completed"
    },
    "tags": []
   },
   "outputs": [],
   "source": [
    "from sklearn.model_selection import GridSearchCV\n",
    "\n",
    "parameters = [{'n_estimators' : [10, 50, 100, 200], 'max_depth' : [3, 10, 20, 40]}]\n",
    "\n",
    "grid_search = GridSearchCV(estimator = RF_classifier,\n",
    "                           param_grid = parameters,\n",
    "                           scoring = 'accuracy',\n",
    "                           cv = 10,\n",
    "                           n_jobs = -1)"
   ]
  },
  {
   "cell_type": "code",
   "execution_count": null,
   "id": "b4189d0f",
   "metadata": {
    "execution": {
     "iopub.execute_input": "2022-08-20T06:08:43.200084Z",
     "iopub.status.busy": "2022-08-20T06:08:43.199198Z",
     "iopub.status.idle": "2022-08-20T06:09:14.534248Z",
     "shell.execute_reply": "2022-08-20T06:09:14.533016Z"
    },
    "papermill": {
     "duration": 31.385698,
     "end_time": "2022-08-20T06:09:14.537386",
     "exception": false,
     "start_time": "2022-08-20T06:08:43.151688",
     "status": "completed"
    },
    "tags": []
   },
   "outputs": [],
   "source": [
    "grid_search.fit(X_train_res, y_train_res)\n",
    "RF_acc3 = grid_search.best_score_\n",
    "best_parameters6 = grid_search.best_params_"
   ]
  },
  {
   "cell_type": "code",
   "execution_count": null,
   "id": "47677127",
   "metadata": {
    "execution": {
     "iopub.execute_input": "2022-08-20T06:09:14.630430Z",
     "iopub.status.busy": "2022-08-20T06:09:14.629996Z",
     "iopub.status.idle": "2022-08-20T06:09:14.636266Z",
     "shell.execute_reply": "2022-08-20T06:09:14.634840Z"
    },
    "papermill": {
     "duration": 0.057971,
     "end_time": "2022-08-20T06:09:14.640910",
     "exception": false,
     "start_time": "2022-08-20T06:09:14.582939",
     "status": "completed"
    },
    "tags": []
   },
   "outputs": [],
   "source": [
    "print(\"Best Accuracy of Random Forest with hyperparameter tuning: {:.2f} %\".format(RF_acc3*100))\n",
    "print(\"Best Parameters of Random Forest:\", best_parameters6)"
   ]
  },
  {
   "cell_type": "code",
   "execution_count": null,
   "id": "0fdb70d6",
   "metadata": {
    "execution": {
     "iopub.execute_input": "2022-08-20T06:09:14.735839Z",
     "iopub.status.busy": "2022-08-20T06:09:14.735400Z",
     "iopub.status.idle": "2022-08-20T06:09:15.099992Z",
     "shell.execute_reply": "2022-08-20T06:09:15.098409Z"
    },
    "papermill": {
     "duration": 0.414726,
     "end_time": "2022-08-20T06:09:15.102669",
     "exception": false,
     "start_time": "2022-08-20T06:09:14.687943",
     "status": "completed"
    },
    "tags": []
   },
   "outputs": [],
   "source": [
    "mylist=[]\n",
    "mylist2=[]\n",
    "mylist.append(LR_acc1)\n",
    "mylist2.append(\"Logistic Regression\")\n",
    "mylist.append(SVM_acc1)\n",
    "mylist2.append(\"SVM\")\n",
    "mylist.append(KNN_acc1)\n",
    "mylist2.append(\"K-NN\")\n",
    "mylist.append(DT_acc1)\n",
    "mylist2.append(\"DTC\")\n",
    "mylist.append(RF_acc1)\n",
    "mylist2.append(\"RFC\")\n",
    "\n",
    "plt.rcParams['figure.figsize']=22,10\n",
    "sns.set_style(\"darkgrid\")\n",
    "ax = sns.barplot(x=mylist2, y=mylist, palette = \"coolwarm\", saturation =1.5)\n",
    "plt.xlabel(\"Classification Models\", fontsize = 20 )\n",
    "plt.ylabel(\"Accuracy\", fontsize = 20)\n",
    "plt.title(\"Accuracy of different Classification Models with Unbalance Data\", fontsize = 20)\n",
    "plt.xticks(fontsize = 11, horizontalalignment = 'center', rotation = 8)\n",
    "plt.yticks(fontsize = 13)\n",
    "for p in ax.patches:\n",
    "    width, height = p.get_width(), p.get_height()\n",
    "    x, y = p.get_xy() \n",
    "    ax.annotate(f'{height:.2%}', (x + width/2, y + height*1.02), ha='center', fontsize = 'x-large')\n",
    "plt.show()"
   ]
  },
  {
   "cell_type": "markdown",
   "id": "0f77d12f",
   "metadata": {
    "papermill": {
     "duration": 0.047012,
     "end_time": "2022-08-20T06:09:15.198619",
     "exception": false,
     "start_time": "2022-08-20T06:09:15.151607",
     "status": "completed"
    },
    "tags": []
   },
   "source": [
    "**But in this Model we can see the type-2 error.**\n",
    "\n",
    "**What is type-2 error?** -A type II error is a statistical term used within the context of hypothesis testing that describes the error that occurs when one fails to reject a null hypothesis that is actually false. A type II error produces a false negative, also known as an error of omission.\n",
    "\n",
    "So, here we use SMOTE to reduce the type-2 error and also we use Hyperparameter Tuning for **more** Accuracy"
   ]
  },
  {
   "cell_type": "code",
   "execution_count": null,
   "id": "2d7fed7f",
   "metadata": {
    "execution": {
     "iopub.execute_input": "2022-08-20T06:09:15.294205Z",
     "iopub.status.busy": "2022-08-20T06:09:15.293777Z",
     "iopub.status.idle": "2022-08-20T06:09:15.706396Z",
     "shell.execute_reply": "2022-08-20T06:09:15.704790Z"
    },
    "papermill": {
     "duration": 0.464642,
     "end_time": "2022-08-20T06:09:15.709744",
     "exception": false,
     "start_time": "2022-08-20T06:09:15.245102",
     "status": "completed"
    },
    "tags": []
   },
   "outputs": [],
   "source": [
    "mylist=[]\n",
    "mylist2=[]\n",
    "mylist.append(LR_acc1)\n",
    "mylist2.append(\"Logistic Regression\")\n",
    "mylist.append(SVM_acc2)\n",
    "mylist2.append(\"SVM\")\n",
    "mylist.append(KNN_acc2)\n",
    "mylist2.append(\"K-NN\")\n",
    "mylist.append(DT_acc2)\n",
    "mylist2.append(\"DTC\")\n",
    "mylist.append(RF_acc2)\n",
    "mylist2.append(\"RFC\")\n",
    "\n",
    "plt.rcParams['figure.figsize']=22,10\n",
    "sns.set_style(\"darkgrid\")\n",
    "ax = sns.barplot(x=mylist2, y=mylist, palette = \"coolwarm\", saturation =1.5)\n",
    "plt.xlabel(\"Classification Models\", fontsize = 20 )\n",
    "plt.ylabel(\"Accuracy\", fontsize = 20)\n",
    "plt.title(\"Accuracy of different Classification Models with SMOTE \", fontsize = 20)\n",
    "plt.xticks(fontsize = 11, horizontalalignment = 'center', rotation = 8)\n",
    "plt.yticks(fontsize = 13)\n",
    "for p in ax.patches:\n",
    "    width, height = p.get_width(), p.get_height()\n",
    "    x, y = p.get_xy() \n",
    "    ax.annotate(f'{height:.2%}', (x + width/2, y + height*1.02), ha='center', fontsize = 'x-large')\n",
    "plt.show()"
   ]
  },
  {
   "cell_type": "code",
   "execution_count": null,
   "id": "ac2e3a28",
   "metadata": {
    "execution": {
     "iopub.execute_input": "2022-08-20T06:09:15.825662Z",
     "iopub.status.busy": "2022-08-20T06:09:15.825252Z",
     "iopub.status.idle": "2022-08-20T06:09:16.187839Z",
     "shell.execute_reply": "2022-08-20T06:09:16.186188Z"
    },
    "papermill": {
     "duration": 0.416073,
     "end_time": "2022-08-20T06:09:16.191275",
     "exception": false,
     "start_time": "2022-08-20T06:09:15.775202",
     "status": "completed"
    },
    "tags": []
   },
   "outputs": [],
   "source": [
    "mylist=[]\n",
    "mylist2=[]\n",
    "mylist.append(LR_acc1)\n",
    "mylist2.append(\"Logistic Regression\")\n",
    "mylist.append(SVM_acc2)\n",
    "mylist2.append(\"SVM\")\n",
    "mylist.append(KNN_acc3)\n",
    "mylist2.append(\"K-NN\")\n",
    "mylist.append(DT_acc3)\n",
    "mylist2.append(\"DTC\")\n",
    "mylist.append(RF_acc3)\n",
    "mylist2.append(\"RFC\")\n",
    "\n",
    "plt.rcParams['figure.figsize']=22,10\n",
    "sns.set_style(\"darkgrid\")\n",
    "ax = sns.barplot(x=mylist2, y=mylist, palette = \"coolwarm\", saturation =1.5)\n",
    "plt.xlabel(\"Classification Models\", fontsize = 20 )\n",
    "plt.ylabel(\"Accuracy\", fontsize = 20)\n",
    "plt.title(\"Accuracy of different Classification Models with SMOTE and Hyperparameter Tuning\", fontsize = 20)\n",
    "plt.xticks(fontsize = 11, horizontalalignment = 'center', rotation = 8)\n",
    "plt.yticks(fontsize = 13)\n",
    "for p in ax.patches:\n",
    "    width, height = p.get_width(), p.get_height()\n",
    "    x, y = p.get_xy() \n",
    "    ax.annotate(f'{height:.2%}', (x + width/2, y + height*1.02), ha='center', fontsize = 'x-large')\n",
    "plt.show()"
   ]
  },
  {
   "cell_type": "markdown",
   "id": "37682bf6",
   "metadata": {
    "papermill": {
     "duration": 0.050027,
     "end_time": "2022-08-20T06:09:16.291395",
     "exception": false,
     "start_time": "2022-08-20T06:09:16.241368",
     "status": "completed"
    },
    "tags": []
   },
   "source": [
    "## **Conclusion**\n",
    "By observing above plot we can conclude that the **SVM**, **Decision Tree Classifier** and **Random Forest Classifier** are the best algoritham to analyse with **Unblance Data**.\n",
    "\n",
    "By observing above plot we can conclude that the **Decision Tree Classifier** and **Random Forest Classifier** are the best algoritham to analyse with **SMOTE**.\n",
    "\n",
    "By observing above plot we can conclude that the **K-NN**, **Decision Tree Classifier** and **Random Forest Classifier** are the best algoritham to analyse with **SMOTE with Hyperparameter Tuning**."
   ]
  }
 ],
 "metadata": {
  "kernelspec": {
   "display_name": "Python 3.10.8 64-bit",
   "language": "python",
   "name": "python3"
  },
  "language_info": {
   "codemirror_mode": {
    "name": "ipython",
    "version": 3
   },
   "file_extension": ".py",
   "mimetype": "text/x-python",
   "name": "python",
   "nbconvert_exporter": "python",
   "pygments_lexer": "ipython3",
   "version": "3.10.8"
  },
  "papermill": {
   "default_parameters": {},
   "duration": 128.777624,
   "end_time": "2022-08-20T06:09:19.063731",
   "environment_variables": {},
   "exception": null,
   "input_path": "__notebook__.ipynb",
   "output_path": "__notebook__.ipynb",
   "parameters": {},
   "start_time": "2022-08-20T06:07:10.286107",
   "version": "2.3.4"
  },
  "vscode": {
   "interpreter": {
    "hash": "aee8b7b246df8f9039afb4144a1f6fd8d2ca17a180786b69acc140d282b71a49"
   }
  }
 },
 "nbformat": 4,
 "nbformat_minor": 5
}
