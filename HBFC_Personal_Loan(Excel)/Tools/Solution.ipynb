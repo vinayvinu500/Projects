{
 "cells": [
  {
   "cell_type": "code",
   "execution_count": 15,
   "metadata": {},
   "outputs": [],
   "source": [
    "# libraries\n",
    "import numpy as np\n",
    "import pandas as pd\n",
    "import matplotlib.pyplot as plt\n",
    "import seaborn as sns\n",
    "import mysql.connector\n",
    "\n",
    "%matplotlib inline"
   ]
  },
  {
   "cell_type": "code",
   "execution_count": 4,
   "metadata": {},
   "outputs": [
    {
     "name": "stdout",
     "output_type": "stream",
     "text": [
      "<class 'pandas.core.frame.DataFrame'>\n",
      "RangeIndex: 5000 entries, 0 to 4999\n",
      "Data columns (total 15 columns):\n",
      " #   Column                 Non-Null Count  Dtype  \n",
      "---  ------                 --------------  -----  \n",
      " 0   ID                     4999 non-null   float64\n",
      " 1   Age (in years)         5000 non-null   int64  \n",
      " 2   Experience (in years)  5000 non-null   int64  \n",
      " 3   Income (in K/year)     5000 non-null   int64  \n",
      " 4   Income Categorical     5000 non-null   object \n",
      " 5   ZIP Code               5000 non-null   int64  \n",
      " 6   Family members         4982 non-null   float64\n",
      " 7   CCAvg                  5000 non-null   float64\n",
      " 8   Education              5000 non-null   object \n",
      " 9   Mortgage               5000 non-null   int64  \n",
      " 10  Personal Loan          5000 non-null   object \n",
      " 11  Securities Account     5000 non-null   object \n",
      " 12  TD Account             5000 non-null   object \n",
      " 13  Online                 5000 non-null   object \n",
      " 14  CreditCard             5000 non-null   object \n",
      "dtypes: float64(3), int64(5), object(7)\n",
      "memory usage: 586.1+ KB\n"
     ]
    }
   ],
   "source": [
    "# dataset\n",
    "df = pd.read_excel('../dataset.xlsx')\n",
    "df.info()"
   ]
  },
  {
   "cell_type": "code",
   "execution_count": 17,
   "metadata": {},
   "outputs": [
    {
     "data": {
      "text/plain": [
       "<AxesSubplot: xlabel='count', ylabel='Personal Loan'>"
      ]
     },
     "execution_count": 17,
     "metadata": {},
     "output_type": "execute_result"
    },
    {
     "data": {
      "image/png": "[encoded data removed]",
      "text/plain": [
       "<Figure size 640x480 with 1 Axes>"
      ]
     },
     "metadata": {},
     "output_type": "display_data"
    }
   ],
   "source": [
    "# What percentage of the bank’s customers (according to the data) have availed Personal Loans?\n",
    "df['Personal Loan'].value_counts()\n",
    "sns.countplot(data=df,y='Personal Loan',hue='Personal Loan')"
   ]
  },
  {
   "cell_type": "code",
   "execution_count": 24,
   "metadata": {},
   "outputs": [
    {
     "data": {
      "text/html": [
       "<div>\n",
       "<style scoped>\n",
       "    .dataframe tbody tr th:only-of-type {\n",
       "        vertical-align: middle;\n",
       "    }\n",
       "\n",
       "    .dataframe tbody tr th {\n",
       "        vertical-align: top;\n",
       "    }\n",
       "\n",
       "    .dataframe thead th {\n",
       "        text-align: right;\n",
       "    }\n",
       "</style>\n",
       "<table border=\"1\" class=\"dataframe\">\n",
       "  <thead>\n",
       "    <tr style=\"text-align: right;\">\n",
       "      <th></th>\n",
       "      <th>Age (in years)</th>\n",
       "      <th>Experience (in years)</th>\n",
       "      <th>Income (in K/year)</th>\n",
       "      <th>Family members</th>\n",
       "      <th>CCAvg</th>\n",
       "      <th>Mortgage</th>\n",
       "    </tr>\n",
       "  </thead>\n",
       "  <tbody>\n",
       "    <tr>\n",
       "      <th>min</th>\n",
       "      <td>23.0000</td>\n",
       "      <td>0.0000</td>\n",
       "      <td>8.0000</td>\n",
       "      <td>1.00000</td>\n",
       "      <td>0.000000</td>\n",
       "      <td>0.0000</td>\n",
       "    </tr>\n",
       "    <tr>\n",
       "      <th>max</th>\n",
       "      <td>67.0000</td>\n",
       "      <td>43.0000</td>\n",
       "      <td>224.0000</td>\n",
       "      <td>4.00000</td>\n",
       "      <td>10.000000</td>\n",
       "      <td>635.0000</td>\n",
       "    </tr>\n",
       "    <tr>\n",
       "      <th>median</th>\n",
       "      <td>45.0000</td>\n",
       "      <td>20.0000</td>\n",
       "      <td>64.0000</td>\n",
       "      <td>2.00000</td>\n",
       "      <td>1.500000</td>\n",
       "      <td>0.0000</td>\n",
       "    </tr>\n",
       "    <tr>\n",
       "      <th>mean</th>\n",
       "      <td>45.3384</td>\n",
       "      <td>20.1348</td>\n",
       "      <td>73.7742</td>\n",
       "      <td>2.39723</td>\n",
       "      <td>1.937938</td>\n",
       "      <td>56.4988</td>\n",
       "    </tr>\n",
       "  </tbody>\n",
       "</table>\n",
       "</div>"
      ],
      "text/plain": [
       "        Age (in years)  Experience (in years)  Income (in K/year)  \\\n",
       "min            23.0000                 0.0000              8.0000   \n",
       "max            67.0000                43.0000            224.0000   \n",
       "median         45.0000                20.0000             64.0000   \n",
       "mean           45.3384                20.1348             73.7742   \n",
       "\n",
       "        Family members      CCAvg  Mortgage  \n",
       "min            1.00000   0.000000    0.0000  \n",
       "max            4.00000  10.000000  635.0000  \n",
       "median         2.00000   1.500000    0.0000  \n",
       "mean           2.39723   1.937938   56.4988  "
      ]
     },
     "execution_count": 24,
     "metadata": {},
     "output_type": "execute_result"
    }
   ],
   "source": [
    "# Generate a table with min, max, median & average for all numeric variables (age,\n",
    "# experience, income, family members, CCAvg, Mortgage). What are your observations?\n",
    "df[['Age (in years)', 'Experience (in years)', 'Income (in K/year)',\n",
    "    'Family members', 'CCAvg', 'Mortgage']].agg(['min','max','median','mean'])"
   ]
  },
  {
   "cell_type": "code",
   "execution_count": null,
   "metadata": {},
   "outputs": [],
   "source": [
    "'''\n",
    "Create a new categorical variable for Experience using 4 categories – \n",
    "\n",
    "0 to 10 years \n",
    "\n",
    "11 to 20 years \n",
    "\n",
    "21 to 30 years and \n",
    "\n",
    "30+ years. \n",
    "'''\n",
    "df['Experience'] = \n"
   ]
  }
 ],
 "metadata": {
  "kernelspec": {
   "display_name": "Python 3.10.8 64-bit",
   "language": "python",
   "name": "python3"
  },
  "language_info": {
   "codemirror_mode": {
    "name": "ipython",
    "version": 3
   },
   "file_extension": ".py",
   "mimetype": "text/x-python",
   "name": "python",
   "nbconvert_exporter": "python",
   "pygments_lexer": "ipython3",
   "version": "3.10.8"
  },
  "orig_nbformat": 4,
  "vscode": {
   "interpreter": {
    "hash": "aee8b7b246df8f9039afb4144a1f6fd8d2ca17a180786b69acc140d282b71a49"
   }
  }
 },
 "nbformat": 4,
 "nbformat_minor": 2
}
